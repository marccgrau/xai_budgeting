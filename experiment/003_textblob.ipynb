{
 "cells": [
  {
   "cell_type": "code",
   "execution_count": 14,
   "metadata": {},
   "outputs": [],
   "source": [
    "from textblob import TextBlob\n",
    "import pandas as pd"
   ]
  },
  {
   "cell_type": "markdown",
   "metadata": {},
   "source": [
    "#### 1. Load File"
   ]
  },
  {
   "cell_type": "markdown",
   "metadata": {},
   "source": [
    "More information about textblob available here: https://textblob.readthedocs.io/en/dev/"
   ]
  },
  {
   "cell_type": "markdown",
   "metadata": {},
   "source": [
    "Initial Submissions"
   ]
  },
  {
   "cell_type": "code",
   "execution_count": 15,
   "metadata": {},
   "outputs": [],
   "source": [
    "# Define the path to the text file\n",
    "initial_submission_path = 'C:/Users/domin/Documents/GitHub/xai_budgeting/001_data/003_experiment/002_justifications/initial_submission.txt'  # Adjust the path as necessary\n",
    "\n",
    "# Define the path for the output CSV file\n",
    "initial_output_csv_path  = 'C:/Users/domin/Documents/GitHub/xai_budgeting/001_data/003_experiment/002_justifications/textblob_initial_results.csv'"
   ]
  },
  {
   "cell_type": "markdown",
   "metadata": {},
   "source": [
    "AI Resubmissions"
   ]
  },
  {
   "cell_type": "code",
   "execution_count": 16,
   "metadata": {},
   "outputs": [],
   "source": [
    "# Define the path to the text file\n",
    "ai_resubmissions_path  = 'C:/Users/domin/Documents/GitHub/xai_budgeting/001_data/003_experiment/002_justifications/ai_resubmissions.txt'  # Adjust the path as necessary\n",
    "\n",
    "# Define the path for the output CSV file\n",
    "ai_output_csv_path  = 'C:/Users/domin/Documents/GitHub/xai_budgeting/001_data/003_experiment/002_justifications/textblob_airesubmission_results.csv'"
   ]
  },
  {
   "cell_type": "markdown",
   "metadata": {},
   "source": [
    "#### 2. Apply textblob"
   ]
  },
  {
   "cell_type": "code",
   "execution_count": 17,
   "metadata": {},
   "outputs": [],
   "source": [
    "# Function to perform sentiment analysis\n",
    "def analyze_sentiment(file_path, output_csv_path):\n",
    "    results = []  # List to hold the results\n",
    "    \n",
    "    # Attempt to read the file and analyze each line, ignoring the first row\n",
    "    with open(file_path, 'r', encoding='utf-8') as file:\n",
    "        next(file)  # Skip the first line\n",
    "        for line in file:\n",
    "            # Strip the newline character from each line\n",
    "            text = line.strip()\n",
    "            \n",
    "            # Skip empty lines\n",
    "            if not text:\n",
    "                continue\n",
    "\n",
    "            # Perform sentiment analysis\n",
    "            blob = TextBlob(text)\n",
    "            sentiment = blob.sentiment\n",
    "\n",
    "            # Calculate intensity as the absolute value of polarity\n",
    "            intensity = abs(sentiment.polarity)\n",
    "\n",
    "            # Append results for each line\n",
    "            results.append({\n",
    "                'Text': text[:50],  # Include the first 50 characters of the text for reference\n",
    "                'Polarity': sentiment.polarity,\n",
    "                'Subjectivity': sentiment.subjectivity,\n",
    "                'Intensity': intensity\n",
    "            })\n",
    "\n",
    "    # Convert results to a pandas DataFrame\n",
    "    df = pd.DataFrame(results)\n",
    "\n",
    "    # Save the DataFrame to a CSV file\n",
    "    df.to_csv(output_csv_path, index=False)\n",
    "\n",
    "    print(f\"Sentiment analysis results by line saved to {output_csv_path}\")\n"
   ]
  }
 ],
 "metadata": {
  "kernelspec": {
   "display_name": "Python 3",
   "language": "python",
   "name": "python3"
  },
  "language_info": {
   "codemirror_mode": {
    "name": "ipython",
    "version": 3
   },
   "file_extension": ".py",
   "mimetype": "text/x-python",
   "name": "python",
   "nbconvert_exporter": "python",
   "pygments_lexer": "ipython3",
   "version": "3.11.8"
  }
 },
 "nbformat": 4,
 "nbformat_minor": 2
}
