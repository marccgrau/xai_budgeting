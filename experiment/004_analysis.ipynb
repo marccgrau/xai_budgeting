{
 "cells": [
  {
   "cell_type": "code",
   "execution_count": 59,
   "metadata": {},
   "outputs": [],
   "source": [
    "import pandas as pd"
   ]
  },
  {
   "cell_type": "markdown",
   "metadata": {},
   "source": [
    "## 1. Load Initial Submissions"
   ]
  },
  {
   "cell_type": "markdown",
   "metadata": {},
   "source": [
    "### Loughran & McDonald"
   ]
  },
  {
   "cell_type": "code",
   "execution_count": 60,
   "metadata": {},
   "outputs": [
    {
     "data": {
      "text/plain": [
       "118"
      ]
     },
     "execution_count": 60,
     "metadata": {},
     "output_type": "execute_result"
    }
   ],
   "source": [
    "# Specify the file path\n",
    "loughran_initial = 'C:/Users/domin/Documents/GitHub/xai_budgeting/001_data/003_experiment/002_justifications/loughran_initial_results.csv'\n",
    "\n",
    "# Load the .csv file into a DataFrame\n",
    "loughran_initial_df = pd.read_csv(loughran_initial)\n",
    "len(loughran_initial_df)"
   ]
  },
  {
   "cell_type": "code",
   "execution_count": 61,
   "metadata": {},
   "outputs": [
    {
     "name": "stdout",
     "output_type": "stream",
     "text": [
      "Sum of negative values: 37\n",
      "Sum of positive values: 31\n",
      "Sum of uncertainty values: 90\n"
     ]
    }
   ],
   "source": [
    "# Sum the values in the 'negative' and 'positive' columns\n",
    "sum_negative = loughran_initial_df['negative'].sum()\n",
    "sum_positive = loughran_initial_df['positive'].sum()\n",
    "sum_uncertainty = loughran_initial_df['uncertainty'].sum()\n",
    "\n",
    "\n",
    "# Print the sums\n",
    "print(f\"Sum of negative values: {sum_negative}\")\n",
    "print(f\"Sum of positive values: {sum_positive}\")\n",
    "print(f\"Sum of uncertainty values: {sum_uncertainty}\")"
   ]
  },
  {
   "cell_type": "markdown",
   "metadata": {},
   "source": [
    "### Textblob"
   ]
  },
  {
   "cell_type": "code",
   "execution_count": 62,
   "metadata": {},
   "outputs": [
    {
     "data": {
      "text/plain": [
       "118"
      ]
     },
     "execution_count": 62,
     "metadata": {},
     "output_type": "execute_result"
    }
   ],
   "source": [
    "# Specify the file path\n",
    "textblob_initial = 'C:/Users/domin/Documents/GitHub/xai_budgeting/001_data/003_experiment/002_justifications/textblob_initial_results.csv'\n",
    "\n",
    "# Load the .csv file into a DataFrame\n",
    "textblob_initial_df = pd.read_csv(textblob_initial)\n",
    "len(textblob_initial_df)"
   ]
  },
  {
   "cell_type": "code",
   "execution_count": 63,
   "metadata": {},
   "outputs": [
    {
     "name": "stdout",
     "output_type": "stream",
     "text": [
      "Avg of polarity: 0.01468208079661017\n",
      "Avg of subjectivity: 0.30942098503389825\n"
     ]
    }
   ],
   "source": [
    "# Sum the values in the 'negative' and 'positive' columns\n",
    "avg_polarity = textblob_initial_df['Polarity'].mean()\n",
    "avg_subjectivity = textblob_initial_df['Subjectivity'].mean()\n",
    "\n",
    "# Print the sums\n",
    "print(f\"Avg of polarity: {avg_polarity}\")\n",
    "print(f\"Avg of subjectivity: {avg_subjectivity}\")"
   ]
  },
  {
   "cell_type": "markdown",
   "metadata": {},
   "source": [
    "## 2. Load AI Resubmissions"
   ]
  },
  {
   "cell_type": "markdown",
   "metadata": {},
   "source": [
    "### Loughran & McDonald"
   ]
  },
  {
   "cell_type": "code",
   "execution_count": 64,
   "metadata": {},
   "outputs": [
    {
     "data": {
      "text/plain": [
       "13"
      ]
     },
     "execution_count": 64,
     "metadata": {},
     "output_type": "execute_result"
    }
   ],
   "source": [
    "# Specify the file path\n",
    "loughran_resubmission = 'C:/Users/domin/Documents/GitHub/xai_budgeting/001_data/003_experiment/002_justifications/loughran_airesubmissions_results.csv'\n",
    "\n",
    "# Load the .csv file into a DataFrame\n",
    "loughran_resubm_df = pd.read_csv(loughran_resubmission)\n",
    "len(loughran_resubm_df)"
   ]
  },
  {
   "cell_type": "code",
   "execution_count": 65,
   "metadata": {},
   "outputs": [
    {
     "name": "stdout",
     "output_type": "stream",
     "text": [
      "Sum of negative values: 5\n",
      "Sum of positive values: 2\n",
      "Sum of uncertainty values: 12\n"
     ]
    }
   ],
   "source": [
    "# Sum the values in the 'negative' and 'positive' columns\n",
    "sum_negative = loughran_resubm_df['negative'].sum()\n",
    "sum_positive = loughran_resubm_df['positive'].sum()\n",
    "sum_uncertainty = loughran_resubm_df['uncertainty'].sum()\n",
    "\n",
    "\n",
    "# Print the sums\n",
    "print(f\"Sum of negative values: {sum_negative}\")\n",
    "print(f\"Sum of positive values: {sum_positive}\")\n",
    "print(f\"Sum of uncertainty values: {sum_uncertainty}\")"
   ]
  },
  {
   "cell_type": "markdown",
   "metadata": {},
   "source": [
    "### Textblob"
   ]
  },
  {
   "cell_type": "code",
   "execution_count": 66,
   "metadata": {},
   "outputs": [
    {
     "data": {
      "text/plain": [
       "13"
      ]
     },
     "execution_count": 66,
     "metadata": {},
     "output_type": "execute_result"
    }
   ],
   "source": [
    "# Specify the file path\n",
    "textblob_resubm = 'C:/Users/domin/Documents/GitHub/xai_budgeting/001_data/003_experiment/002_justifications/textblob_airesubmission_results.csv'\n",
    "\n",
    "# Load the .csv file into a DataFrame\n",
    "textblob_resubm_df = pd.read_csv(textblob_resubm)\n",
    "len(textblob_resubm_df)"
   ]
  },
  {
   "cell_type": "code",
   "execution_count": 67,
   "metadata": {},
   "outputs": [
    {
     "name": "stdout",
     "output_type": "stream",
     "text": [
      "Avg of polarity: 0.13297693403462635\n",
      "Avg of subjectivity: 0.3580925378040763\n"
     ]
    }
   ],
   "source": [
    "# Sum the values in the 'negative' and 'positive' columns\n",
    "avg_polarity = textblob_resubm_df['Polarity'].mean()\n",
    "avg_subjectivity = textblob_resubm_df['Subjectivity'].mean()\n",
    "\n",
    "# Print the sums\n",
    "print(f\"Avg of polarity: {avg_polarity}\")\n",
    "print(f\"Avg of subjectivity: {avg_subjectivity}\")"
   ]
  },
  {
   "cell_type": "markdown",
   "metadata": {},
   "source": [
    "Backup: Load Qualtrics result and match justifications with actual slack"
   ]
  },
  {
   "cell_type": "code",
   "execution_count": 68,
   "metadata": {},
   "outputs": [],
   "source": [
    "# # Specify the file path\n",
    "# qualtrics = 'final_qualtrics.csv'\n",
    "\n",
    "# # Load the .csv file into a DataFrame\n",
    "# qualtrics_df = pd.read_csv(qualtrics)\n",
    "\n",
    "# # List of columns you want to keep\n",
    "# cols_to_keep = ['Scenario1_Answer_1','Scenario1_Explainer', 'AI_Resubmission13_1', 'AI_Resubmission14', 'NoAI_Resubmission13_1', 'NoAI_Resubmission14', 'FL_23_DO']\n",
    "\n",
    "# # Select only the columns specified in cols_to_keep\n",
    "# qualtrics_df = qualtrics_df[cols_to_keep]\n",
    "\n",
    "# #Print overview\n",
    "# qualtrics_df.head()"
   ]
  },
  {
   "cell_type": "code",
   "execution_count": null,
   "metadata": {},
   "outputs": [],
   "source": []
  }
 ],
 "metadata": {
  "kernelspec": {
   "display_name": "Python 3",
   "language": "python",
   "name": "python3"
  },
  "language_info": {
   "codemirror_mode": {
    "name": "ipython",
    "version": 3
   },
   "file_extension": ".py",
   "mimetype": "text/x-python",
   "name": "python",
   "nbconvert_exporter": "python",
   "pygments_lexer": "ipython3",
   "version": "3.11.9"
  }
 },
 "nbformat": 4,
 "nbformat_minor": 2
}
