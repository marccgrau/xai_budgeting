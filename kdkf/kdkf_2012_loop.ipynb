{
 "cells": [
  {
   "cell_type": "code",
   "execution_count": 1,
   "metadata": {},
   "outputs": [],
   "source": [
    "import pandas as pd"
   ]
  },
  {
   "cell_type": "markdown",
   "metadata": {},
   "source": [
    "### 2012 source file spec"
   ]
  },
  {
   "cell_type": "code",
   "execution_count": 2,
   "metadata": {},
   "outputs": [],
   "source": [
    "# Define the file path\n",
    "file_path = r'C:\\Users\\domin\\Documents\\GitHub\\xai_budgeting\\data\\raw\\kdkf_2012_raw.xls'\n",
    "\n",
    "# Load the Excel file to get sheet names\n",
    "xls = pd.ExcelFile(file_path)\n",
    "\n",
    "# Define the years\n",
    "previous_year = 2011\n",
    "start_year = 2012\n",
    "target_year = 2013\n",
    "\n",
    "# Set the pandas option to display floating point numbers using the decimal format\n",
    "pd.options.display.float_format = '{:.5f}'.format"
   ]
  },
  {
   "cell_type": "markdown",
   "metadata": {},
   "source": [
    "### Master Loop"
   ]
  },
  {
   "cell_type": "code",
   "execution_count": 3,
   "metadata": {},
   "outputs": [
    {
     "data": {
      "text/html": [
       "<div>\n",
       "<style scoped>\n",
       "    .dataframe tbody tr th:only-of-type {\n",
       "        vertical-align: middle;\n",
       "    }\n",
       "\n",
       "    .dataframe tbody tr th {\n",
       "        vertical-align: top;\n",
       "    }\n",
       "\n",
       "    .dataframe thead th {\n",
       "        text-align: right;\n",
       "    }\n",
       "</style>\n",
       "<table border=\"1\" class=\"dataframe\">\n",
       "  <thead>\n",
       "    <tr style=\"text-align: right;\">\n",
       "      <th></th>\n",
       "      <th>HRM2-ID</th>\n",
       "      <th>HRM2-Bezeichnung</th>\n",
       "      <th>Rechnung 2011</th>\n",
       "      <th>Budget 2012</th>\n",
       "      <th>Rechnung 2012</th>\n",
       "      <th>Budget 2013</th>\n",
       "      <th>Source</th>\n",
       "      <th>Kanton</th>\n",
       "      <th>Year</th>\n",
       "      <th>Unnamed: 7</th>\n",
       "    </tr>\n",
       "  </thead>\n",
       "  <tbody>\n",
       "    <tr>\n",
       "      <th>0</th>\n",
       "      <td>ERFOLGSRECHNUNG</td>\n",
       "      <td>NaN</td>\n",
       "      <td>NaN</td>\n",
       "      <td>NaN</td>\n",
       "      <td>NaN</td>\n",
       "      <td>def.</td>\n",
       "      <td>ZH HRM2</td>\n",
       "      <td>ZH</td>\n",
       "      <td>2012</td>\n",
       "      <td>NaN</td>\n",
       "    </tr>\n",
       "    <tr>\n",
       "      <th>1</th>\n",
       "      <td>30</td>\n",
       "      <td>Personalaufwand</td>\n",
       "      <td>7369400.90000</td>\n",
       "      <td>4663146.94000</td>\n",
       "      <td>4782409.41000</td>\n",
       "      <td>4827007.19000</td>\n",
       "      <td>ZH HRM2</td>\n",
       "      <td>ZH</td>\n",
       "      <td>2012</td>\n",
       "      <td>NaN</td>\n",
       "    </tr>\n",
       "    <tr>\n",
       "      <th>2</th>\n",
       "      <td>31</td>\n",
       "      <td>Sach- und übriger Betriebsaufwand</td>\n",
       "      <td>2693614.80000</td>\n",
       "      <td>2513591.77000</td>\n",
       "      <td>2742025.90000</td>\n",
       "      <td>2633519.28000</td>\n",
       "      <td>ZH HRM2</td>\n",
       "      <td>ZH</td>\n",
       "      <td>2012</td>\n",
       "      <td>NaN</td>\n",
       "    </tr>\n",
       "    <tr>\n",
       "      <th>3</th>\n",
       "      <td>davon 314</td>\n",
       "      <td>baulicher und betrieblicher Unterhalt</td>\n",
       "      <td>192707</td>\n",
       "      <td>202022.00000</td>\n",
       "      <td>194592.14000</td>\n",
       "      <td>202593.45000</td>\n",
       "      <td>ZH HRM2</td>\n",
       "      <td>ZH</td>\n",
       "      <td>2012</td>\n",
       "      <td>NaN</td>\n",
       "    </tr>\n",
       "    <tr>\n",
       "      <th>4</th>\n",
       "      <td>davon 3180</td>\n",
       "      <td>Wertberichtigungen auf Forderungen</td>\n",
       "      <td>6103</td>\n",
       "      <td>2475.00000</td>\n",
       "      <td>-15285.00000</td>\n",
       "      <td>3557.70000</td>\n",
       "      <td>ZH HRM2</td>\n",
       "      <td>ZH</td>\n",
       "      <td>2012</td>\n",
       "      <td>NaN</td>\n",
       "    </tr>\n",
       "  </tbody>\n",
       "</table>\n",
       "</div>"
      ],
      "text/plain": [
       "           HRM2-ID                       HRM2-Bezeichnung Rechnung 2011  \\\n",
       "0  ERFOLGSRECHNUNG                                    NaN           NaN   \n",
       "1               30                        Personalaufwand 7369400.90000   \n",
       "2               31      Sach- und übriger Betriebsaufwand 2693614.80000   \n",
       "3        davon 314  baulicher und betrieblicher Unterhalt        192707   \n",
       "4       davon 3180     Wertberichtigungen auf Forderungen          6103   \n",
       "\n",
       "    Budget 2012 Rechnung 2012   Budget 2013   Source Kanton  Year  Unnamed: 7  \n",
       "0           NaN           NaN          def.  ZH HRM2     ZH  2012         NaN  \n",
       "1 4663146.94000 4782409.41000 4827007.19000  ZH HRM2     ZH  2012         NaN  \n",
       "2 2513591.77000 2742025.90000 2633519.28000  ZH HRM2     ZH  2012         NaN  \n",
       "3  202022.00000  194592.14000  202593.45000  ZH HRM2     ZH  2012         NaN  \n",
       "4    2475.00000  -15285.00000    3557.70000  ZH HRM2     ZH  2012         NaN  "
      ]
     },
     "execution_count": 3,
     "metadata": {},
     "output_type": "execute_result"
    }
   ],
   "source": [
    "# Initialize an empty DataFrame for the master data\n",
    "master_2012 = pd.DataFrame()\n",
    "\n",
    "# Loop over each sheet in the Excel file\n",
    "for sheet_name in xls.sheet_names:\n",
    "    # Check if the sheet name starts with \"HRM2_KT_\"\n",
    "    if sheet_name.endswith(\"HRM2\"):\n",
    "        # Load the sheet into a DataFrame, skipping the first three rows\n",
    "        df = pd.read_excel(file_path, sheet_name=sheet_name, skiprows=0)\n",
    "\n",
    "        # Merge the first row with the column headers\n",
    "        df.columns = df.iloc[0, :2].tolist() + (df.columns[2:]).tolist()\n",
    "        df = df.iloc[1:].reset_index(drop=True)\n",
    "\n",
    "        # Update Headers of the df\n",
    "        rename_dict = {\n",
    "            'Rechnung': f'Rechnung {previous_year}',\n",
    "            'Budget': f'Budget {start_year}',\n",
    "            'Rechnung.1': f'Rechnung {start_year}',\n",
    "            'Budget.1': f'Budget {target_year}'\n",
    "        }\n",
    "        df.rename(columns=rename_dict, inplace=True)\n",
    "\n",
    "        # Rename the first column to 'HRM 2' and third column to \"in 1000 CHF\"\n",
    "        df.columns.values[0] = 'HRM2-ID'\n",
    "        df.columns.values[2] = 'HRM2-Bezeichnung'\n",
    "\n",
    "        # Delete unecessary columns\n",
    "        df.drop(df.columns[1], axis=1, inplace=True)\n",
    "             \n",
    "        # Add a new column with the DataFrame name (sheet name)\n",
    "        df['Source'] = sheet_name\n",
    "        df['Kanton'] = df['Source'].str.split(' HRM2').str[0]\n",
    "        df['Year'] = 2012\n",
    "\n",
    "        # Use pd.concat to add the DataFrame to the master DataFrame\n",
    "        master_2012 = pd.concat([master_2012, df], ignore_index=True)\n",
    "\n",
    "# Display the first few rows of the master DataFrame\n",
    "master_2012.head()"
   ]
  },
  {
   "cell_type": "markdown",
   "metadata": {},
   "source": [
    "### Translating FR columns to DE\n",
    "Not needed, because there are no french cantons with HRM2 Reporting..."
   ]
  },
  {
   "cell_type": "markdown",
   "metadata": {},
   "source": [
    "### Before saving the data, we drop non-numeric \"HRM2-IDs\", because they would cause issues with subsequent automated analysis..."
   ]
  },
  {
   "cell_type": "code",
   "execution_count": 4,
   "metadata": {},
   "outputs": [
    {
     "data": {
      "text/plain": [
       "1352"
      ]
     },
     "execution_count": 4,
     "metadata": {},
     "output_type": "execute_result"
    }
   ],
   "source": [
    "# Drop the column named 'Unnamed: 7'\n",
    "master_2012.drop('Unnamed: 7', axis=1, inplace=True)\n",
    "\n",
    "# Drop rows where 'HRM-ID' values are non-numeric\n",
    "master_2012 = master_2012[pd.to_numeric(master_2012['HRM2-ID'], errors='coerce').notna()]\n",
    "\n",
    "# Display the first few rows of the updated DataFrame\n",
    "len(master_2012)"
   ]
  },
  {
   "cell_type": "code",
   "execution_count": 5,
   "metadata": {},
   "outputs": [],
   "source": [
    "# Define the path where the CSV file will be saved\n",
    "output_path = r'C:\\Users\\domin\\Documents\\GitHub\\xai_budgeting\\data\\ready\\kdkf_2012_data.csv'\n",
    "\n",
    "# Save the DataFrame to a CSV file\n",
    "master_2012.to_csv(output_path, index=False)\n"
   ]
  }
 ],
 "metadata": {
  "kernelspec": {
   "display_name": "Python 3",
   "language": "python",
   "name": "python3"
  },
  "language_info": {
   "codemirror_mode": {
    "name": "ipython",
    "version": 3
   },
   "file_extension": ".py",
   "mimetype": "text/x-python",
   "name": "python",
   "nbconvert_exporter": "python",
   "pygments_lexer": "ipython3",
   "version": "3.11.6"
  }
 },
 "nbformat": 4,
 "nbformat_minor": 2
}
