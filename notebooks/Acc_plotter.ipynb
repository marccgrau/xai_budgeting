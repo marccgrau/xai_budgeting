{
 "cells": [
  {
   "cell_type": "code",
   "metadata": {
    "ExecuteTime": {
     "end_time": "2024-06-06T11:59:12.984644Z",
     "start_time": "2024-06-06T11:59:12.982052Z"
    }
   },
   "source": [
    "import pandas as pd\n",
    "from pathlib import Path\n",
    "import matplotlib.pyplot as plt\n",
    "import numpy as np\n",
    "from src.feature_engineering import (\n",
    "    apply_feature_engineering,\n",
    "    drop_all_zero_entries,\n",
    "    choose_acc_ids,\n",
    ")\n",
    "import yaml"
   ],
   "execution_count": 61,
   "outputs": []
  },
  {
   "cell_type": "code",
   "metadata": {
    "ExecuteTime": {
     "end_time": "2024-06-06T11:59:12.995365Z",
     "start_time": "2024-06-06T11:59:12.986530Z"
    }
   },
   "source": [
    "acc_config_path = Path(\"../config/acc_config.yaml\")\n",
    "with open(acc_config_path, \"r\") as yaml_file:\n",
    "    acc_config = yaml.safe_load(yaml_file)"
   ],
   "execution_count": 62,
   "outputs": []
  },
  {
   "cell_type": "markdown",
   "metadata": {},
   "source": [
    "## Choose Account to have a look at"
   ]
  },
  {
   "cell_type": "code",
   "metadata": {
    "ExecuteTime": {
     "end_time": "2024-06-06T11:59:12.999275Z",
     "start_time": "2024-06-06T11:59:12.996758Z"
    }
   },
   "source": [
    "CATEGORY = \"Investitionsausgaben\""
   ],
   "execution_count": 63,
   "outputs": []
  },
  {
   "cell_type": "code",
   "metadata": {
    "ExecuteTime": {
     "end_time": "2024-06-06T11:59:13.067694Z",
     "start_time": "2024-06-06T11:59:13.000348Z"
    }
   },
   "source": [
    "# Replace with your actual data loading code\n",
    "file_path = Path(\"../data/final/merged_complete.csv\")\n",
    "df = pd.read_csv(file_path, index_col=None, header=0)\n",
    "\n",
    "# Convert 'Year' to a relative year\n",
    "# df[\"Year\"] = df[\"Year\"] - df[\"Year\"].min()\n",
    "\n",
    "# Sort dataframe and apply feature engineering\n",
    "df = df.sort_values(by=\"Year\")\n",
    "df = apply_feature_engineering(df)\n",
    "df = drop_all_zero_entries(df)\n",
    "df = choose_acc_ids(df, acc_config.get(CATEGORY)) # Choose your account\n",
    "df = df.drop_duplicates(subset=['Year', 'Region', 'Acc-ID'], keep='first')\n"
   ],
   "execution_count": 64,
   "outputs": []
  },
  {
   "cell_type": "code",
   "metadata": {
    "ExecuteTime": {
     "end_time": "2024-06-06T11:59:13.073100Z",
     "start_time": "2024-06-06T11:59:13.069465Z"
    }
   },
   "source": [
    "# Calculate the percentage difference and handle division by zero\n",
    "df['Percentage Difference'] = ((df['Budget y'] - df['Realized']) / df['Realized']).replace([np.inf, -np.inf], np.nan) * 100"
   ],
   "execution_count": 65,
   "outputs": []
  },
  {
   "cell_type": "code",
   "metadata": {
    "ExecuteTime": {
     "end_time": "2024-06-06T11:59:13.080178Z",
     "start_time": "2024-06-06T11:59:13.074479Z"
    }
   },
   "source": [
    "# Clip the percentage difference to the 1% and 99% quantile\n",
    "low_quantile = df['Percentage Difference'].quantile(0.01)\n",
    "high_quantile = df['Percentage Difference'].quantile(0.99)\n",
    "\n",
    "df = df[(df['Percentage Difference'] >= low_quantile) & (df['Percentage Difference'] <= high_quantile)]"
   ],
   "execution_count": 66,
   "outputs": []
  },
  {
   "cell_type": "code",
   "metadata": {
    "ExecuteTime": {
     "end_time": "2024-06-06T11:59:13.095503Z",
     "start_time": "2024-06-06T11:59:13.081357Z"
    }
   },
   "source": [
    "df.tail()"
   ],
   "execution_count": 67,
   "outputs": []
  },
  {
   "cell_type": "code",
   "metadata": {
    "ExecuteTime": {
     "end_time": "2024-06-06T11:59:13.152769Z",
     "start_time": "2024-06-06T11:59:13.096866Z"
    }
   },
   "source": [
    "df.describe()"
   ],
   "execution_count": 68,
   "outputs": []
  },
  {
   "cell_type": "code",
   "metadata": {
    "ExecuteTime": {
     "end_time": "2024-06-06T11:59:13.175593Z",
     "start_time": "2024-06-06T11:59:13.153874Z"
    }
   },
   "source": [
    "highest_dev = df.sort_values(by='Percentage Difference', ascending=False).head(10)\n",
    "highest_dev"
   ],
   "execution_count": 69,
   "outputs": []
  },
  {
   "cell_type": "markdown",
   "metadata": {},
   "source": [
    "## Aggregated Relative Difference"
   ]
  },
  {
   "cell_type": "code",
   "metadata": {
    "ExecuteTime": {
     "end_time": "2024-06-06T11:59:13.366276Z",
     "start_time": "2024-06-06T11:59:13.176956Z"
    }
   },
   "source": [
    "aggregated_data = df.groupby('Year')['Percentage Difference'].mean()\n",
    "\n",
    "plt.figure(figsize=(10, 6))\n",
    "plt.plot(aggregated_data.index, aggregated_data, marker='o', linestyle='-', color='red', label='Aggregated Percentage Difference')\n",
    "plt.title(f'Agg. Percentage Difference (Budget y to Realized) - All Regions - Category {CATEGORY}')\n",
    "plt.xlabel('Year')\n",
    "plt.ylabel('Aggregated Percentage Difference')\n",
    "plt.axhline(0, color='grey', lw=0.8, ls='--')  # Add a line at 0% difference for reference\n",
    "plt.legend()\n",
    "plt.show()\n"
   ],
   "execution_count": 70,
   "outputs": []
  },
  {
   "cell_type": "markdown",
   "metadata": {},
   "source": [
    "## Relative Difference per Region"
   ]
  },
  {
   "cell_type": "code",
   "metadata": {
    "ExecuteTime": {
     "end_time": "2024-06-06T12:04:51.022591Z",
     "start_time": "2024-06-06T12:04:41.709069Z"
    }
   },
   "source": [
    "import seaborn as sns\n",
    "import matplotlib.pyplot as plt\n",
    "import os\n",
    "from pathlib import Path\n",
    "\n",
    "output_dir = 'time_series_additional_plots'\n",
    "os.makedirs(output_dir, exist_ok=True)\n",
    "\n",
    "plt.style.use('default')\n",
    "\n",
    "sns.set(style=\"whitegrid\")  # Use a similar style to your other plots\n",
    "\n",
    "regions = df['Region'].unique()\n",
    "\n",
    "for region in regions:\n",
    "    region_data = df[df['Region'] == region].groupby('Year')['Percentage Difference'].mean().reset_index()\n",
    "    plt.figure(figsize=(10, 4))\n",
    "    sns.lineplot(data=region_data, x='Year', y='Percentage Difference', marker='o', linestyle='-', label=f'Percentage Difference - {region}')\n",
    "    plt.title(f'Percentage Difference (Budget y to Realized) - {region} - Category {CATEGORY}', fontsize=16, color='black')\n",
    "    plt.xlabel('Year', fontsize=12, color='black')\n",
    "    plt.ylabel('Percentage Difference', fontsize=12, color='black')\n",
    "    plt.axhline(0, color='grey', lw=0.8, ls='--')  # Add a line at 0% difference for reference\n",
    "    plt.legend(title='Region', fontsize=10, title_fontsize='11', loc='best')\n",
    "    plt.yticks(fontsize=10, color='black')\n",
    "    \n",
    "    # Set x-ticks to show every year and format as integers\n",
    "    years = region_data['Year'].unique()\n",
    "    plt.xticks(ticks=years, labels=[int(year) for year in years], fontsize=10, color='black')\n",
    "    \n",
    "    plt.tight_layout()\n",
    "    \n",
    "    # Save the plot\n",
    "    plt.savefig(f\"{output_dir}/percentage_difference_{region}_{CATEGORY}.png\", bbox_inches='tight')\n",
    "    plt.show()\n"
   ],
   "execution_count": 75,
   "outputs": []
  },
  {
   "cell_type": "code",
   "metadata": {
    "ExecuteTime": {
     "end_time": "2024-06-06T11:59:23.564454Z",
     "start_time": "2024-06-06T11:59:23.562334Z"
    }
   },
   "source": [],
   "execution_count": 71,
   "outputs": []
  }
 ],
 "metadata": {
  "kernelspec": {
   "display_name": "xai-budgeting-pFTxtpHW-py3.11",
   "language": "python",
   "name": "python3"
  },
  "language_info": {
   "codemirror_mode": {
    "name": "ipython",
    "version": 3
   },
   "file_extension": ".py",
   "mimetype": "text/x-python",
   "name": "python",
   "nbconvert_exporter": "python",
   "pygments_lexer": "ipython3",
   "version": "3.11.7"
  }
 },
 "nbformat": 4,
 "nbformat_minor": 2
}
