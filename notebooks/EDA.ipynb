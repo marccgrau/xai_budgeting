{
 "cells": [
  {
   "cell_type": "code",
   "metadata": {
    "ExecuteTime": {
     "end_time": "2024-06-05T14:42:32.808054Z",
     "start_time": "2024-06-05T14:42:32.805530Z"
    }
   },
   "source": [
    "import pandas as pd\n",
    "import numpy as np\n",
    "import matplotlib.pyplot as plt\n",
    "import seaborn as sns"
   ],
   "execution_count": 1,
   "outputs": []
  },
  {
   "cell_type": "code",
   "metadata": {
    "ExecuteTime": {
     "end_time": "2024-06-05T14:42:32.811236Z",
     "start_time": "2024-06-05T14:42:32.808943Z"
    }
   },
   "source": [
    "sns.set_style('whitegrid')"
   ],
   "execution_count": 2,
   "outputs": []
  },
  {
   "cell_type": "code",
   "metadata": {
    "ExecuteTime": {
     "end_time": "2024-06-05T14:42:32.814752Z",
     "start_time": "2024-06-05T14:42:32.812343Z"
    }
   },
   "source": [
    "file_path = \"../data/final/merged_double_digit.csv\""
   ],
   "execution_count": 3,
   "outputs": []
  },
  {
   "cell_type": "code",
   "metadata": {
    "ExecuteTime": {
     "end_time": "2024-06-05T14:42:32.830675Z",
     "start_time": "2024-06-05T14:42:32.816046Z"
    }
   },
   "source": [
    "df = pd.read_csv(file_path, index_col=None, header=0)"
   ],
   "execution_count": 4,
   "outputs": []
  },
  {
   "cell_type": "code",
   "metadata": {
    "ExecuteTime": {
     "end_time": "2024-06-05T14:42:32.844137Z",
     "start_time": "2024-06-05T14:42:32.831881Z"
    }
   },
   "source": [
    "df.head()"
   ],
   "execution_count": 5,
   "outputs": []
  },
  {
   "cell_type": "code",
   "metadata": {
    "ExecuteTime": {
     "end_time": "2024-06-05T14:42:32.851315Z",
     "start_time": "2024-06-05T14:42:32.847455Z"
    }
   },
   "source": [
    "df.dtypes"
   ],
   "execution_count": 6,
   "outputs": []
  },
  {
   "cell_type": "code",
   "metadata": {
    "ExecuteTime": {
     "end_time": "2024-06-05T14:42:32.861234Z",
     "start_time": "2024-06-05T14:42:32.852268Z"
    }
   },
   "source": [
    "df.info()"
   ],
   "execution_count": 7,
   "outputs": []
  },
  {
   "cell_type": "code",
   "metadata": {
    "ExecuteTime": {
     "end_time": "2024-06-05T14:42:32.877981Z",
     "start_time": "2024-06-05T14:42:32.862382Z"
    }
   },
   "source": [
    "df.describe()"
   ],
   "execution_count": 8,
   "outputs": []
  },
  {
   "cell_type": "code",
   "metadata": {
    "ExecuteTime": {
     "end_time": "2024-06-05T14:42:32.891759Z",
     "start_time": "2024-06-05T14:42:32.879349Z"
    }
   },
   "source": [
    "duplicate_rows_df = df[df.duplicated()]\n",
    "duplicate_rows_df"
   ],
   "execution_count": 9,
   "outputs": []
  },
  {
   "cell_type": "code",
   "metadata": {
    "ExecuteTime": {
     "end_time": "2024-06-05T14:42:32.902525Z",
     "start_time": "2024-06-05T14:42:32.892835Z"
    }
   },
   "source": [
    "df.sample(10)"
   ],
   "execution_count": 10,
   "outputs": []
  },
  {
   "cell_type": "code",
   "metadata": {
    "ExecuteTime": {
     "end_time": "2024-06-05T14:42:32.912281Z",
     "start_time": "2024-06-05T14:42:32.904077Z"
    }
   },
   "source": [
    "agg_year_region_df = df.groupby(['Year', 'Region', 'Acc-ID']).agg({'Realized': 'sum', 'Budget y': 'sum'}).reset_index()"
   ],
   "execution_count": 11,
   "outputs": []
  },
  {
   "cell_type": "code",
   "metadata": {
    "ExecuteTime": {
     "end_time": "2024-06-05T14:42:37.181266Z",
     "start_time": "2024-06-05T14:42:32.913392Z"
    }
   },
   "source": [
    "for region in agg_year_region_df['Region'].unique():\n",
    "    region_df = agg_year_region_df[agg_year_region_df['Region'] == region]\n",
    "    plt.figure(figsize=(12, 6))\n",
    "    plt.plot(region_df['Year'], region_df['Realized'], label='Realized', marker='o')\n",
    "    plt.plot(region_df['Year'], region_df['Budget y'], label='Budget y', marker='x')\n",
    "    \n",
    "    plt.title(f\"Realized vs Budget y Over Time for Region: {region}\")\n",
    "    plt.xlabel(\"Year\")\n",
    "    plt.ylabel(\"CHF\")\n",
    "    plt.legend()\n",
    "    plt.show()"
   ],
   "execution_count": 12,
   "outputs": []
  },
  {
   "cell_type": "code",
   "metadata": {
    "ExecuteTime": {
     "end_time": "2024-06-05T14:42:37.187969Z",
     "start_time": "2024-06-05T14:42:37.182476Z"
    }
   },
   "source": [
    "agg_region_slack_df = df.groupby(['Year', 'Region'])['Slack'].sum().reset_index()"
   ],
   "execution_count": 13,
   "outputs": []
  },
  {
   "cell_type": "code",
   "metadata": {
    "ExecuteTime": {
     "end_time": "2024-06-05T14:43:46.779620Z",
     "start_time": "2024-06-05T14:43:46.430063Z"
    }
   },
   "source": [
    "import matplotlib.pyplot as plt\n",
    "import seaborn as sns\n",
    "\n",
    "plt.figure(figsize=(12, 6))\n",
    "sns.lineplot(data=agg_region_slack_df, x='Year', y='Slack', hue='Region', marker='o')\n",
    "\n",
    "plt.title(\"Total Slack of Every Region for Each Year\", fontsize=16)\n",
    "plt.xlabel(\"Year\", fontsize=12)\n",
    "plt.ylabel(\"Total Slack\", fontsize=12)\n",
    "\n",
    "plt.ticklabel_format(style='plain', axis='y')\n",
    "\n",
    "plt.legend(title='Region', bbox_to_anchor=(1.05, 1), loc='upper left', fontsize=10) \n",
    "\n",
    "plt.show()\n"
   ],
   "execution_count": 16,
   "outputs": []
  },
  {
   "cell_type": "code",
   "metadata": {
    "ExecuteTime": {
     "end_time": "2024-06-05T14:47:21.471625Z",
     "start_time": "2024-06-05T14:47:21.192989Z"
    }
   },
   "source": [
    "personel_expenses_df = df[df['Acc-ID'] == 30]\n",
    "\n",
    "# Group the data by year and calculate the sum of 'Realized' and 'Budget y' for each year\n",
    "grouped_data = personel_expenses_df.groupby('Year')[['Realized', 'Budget y']].sum().reset_index()\n",
    "\n",
    "# Set the years as the x-axis labels\n",
    "years = grouped_data['Year']\n",
    "\n",
    "# Get the Realized and Budget y values for each year\n",
    "realized_values = grouped_data['Realized']\n",
    "budget_values = grouped_data['Budget y']\n",
    "\n",
    "bar_width = 0.35\n",
    "\n",
    "# Create an index for the x-axis positions of the bars\n",
    "x = range(len(years))\n",
    "\n",
    "# Create the bar plots\n",
    "plt.figure(figsize=(12, 6))\n",
    "plt.bar(x, realized_values, width=bar_width, label='Realized', align='center')\n",
    "plt.bar([i + bar_width for i in x], budget_values, width=bar_width, label='Budget y', align='center')\n",
    "\n",
    "# Set x-axis labels and title\n",
    "plt.xlabel('Year')\n",
    "plt.xticks([i + bar_width / 2 for i in x], years)\n",
    "plt.ylabel('CHF')\n",
    "plt.title('Comparison of Realized and Budget y by Year for Cantons of Personnel Expenses')\n",
    "\n",
    "# Add a legend\n",
    "plt.legend()\n",
    "\n",
    "# Show the plot\n",
    "plt.tight_layout()\n",
    "plt.show()"
   ],
   "execution_count": 17,
   "outputs": []
  },
  {
   "cell_type": "code",
   "metadata": {
    "ExecuteTime": {
     "end_time": "2024-06-05T14:47:27.932404Z",
     "start_time": "2024-06-05T14:47:22.679568Z"
    }
   },
   "source": [
    "# Get unique cantons (regions)\n",
    "cantons = personel_expenses_df['Region'].unique()\n",
    "\n",
    "# Create a bar plot for each canton separately\n",
    "for canton in cantons:\n",
    "    canton_data = personel_expenses_df[personel_expenses_df['Region'] == canton]\n",
    "    \n",
    "    # Group the data by year and calculate the sum of 'Realized' and 'Budget y' for each year\n",
    "    grouped_data = canton_data.groupby('Year')[['Realized', 'Budget y']].sum().reset_index()\n",
    "\n",
    "    # Set the years as the x-axis labels\n",
    "    years = grouped_data['Year']\n",
    "\n",
    "    # Get the Realized and Budget y values for each year\n",
    "    realized_values = grouped_data['Realized']\n",
    "    budget_values = grouped_data['Budget y']\n",
    "\n",
    "    # Define the width of each bar\n",
    "    bar_width = 0.35\n",
    "\n",
    "    # Create an index for the x-axis positions of the bars\n",
    "    x = range(len(years))\n",
    "\n",
    "    # Create the bar plots\n",
    "    plt.figure(figsize=(10, 6))\n",
    "    plt.bar(x, realized_values, width=bar_width, label='Realized', align='center')\n",
    "    plt.bar([i + bar_width for i in x], budget_values, width=bar_width, label='Budget y', align='center')\n",
    "\n",
    "    # Set x-axis labels and title\n",
    "    plt.xlabel('Year')\n",
    "    plt.xticks([i + bar_width / 2 for i in x], years)\n",
    "    plt.ylabel('CHF')\n",
    "    plt.title(f'Comparison of Realized and Budget y by Year for {canton} in Personnel Expenses')\n",
    "    \n",
    "    # Add a legend\n",
    "    plt.legend()\n",
    "\n",
    "    # Show the plot for each canton separately\n",
    "    plt.tight_layout()\n",
    "    plt.show()"
   ],
   "execution_count": 18,
   "outputs": []
  },
  {
   "cell_type": "code",
   "metadata": {},
   "source": [],
   "execution_count": null,
   "outputs": []
  },
  {
   "cell_type": "code",
   "metadata": {},
   "source": [],
   "execution_count": null,
   "outputs": []
  },
  {
   "cell_type": "code",
   "metadata": {},
   "source": [],
   "execution_count": null,
   "outputs": []
  }
 ],
 "metadata": {
  "kernelspec": {
   "display_name": "xai-budgeting-pFTxtpHW-py3.11",
   "language": "python",
   "name": "python3"
  },
  "language_info": {
   "codemirror_mode": {
    "name": "ipython",
    "version": 3
   },
   "file_extension": ".py",
   "mimetype": "text/x-python",
   "name": "python",
   "nbconvert_exporter": "python",
   "pygments_lexer": "ipython3",
   "version": "3.11.7"
  }
 },
 "nbformat": 4,
 "nbformat_minor": 2
}
