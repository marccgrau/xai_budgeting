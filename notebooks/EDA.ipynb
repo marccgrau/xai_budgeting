{
 "cells": [
  {
   "cell_type": "code",
   "execution_count": 1,
   "metadata": {},
   "outputs": [
    {
     "name": "stderr",
     "output_type": "stream",
     "text": [
      "/var/folders/vy/kftwr_sx3kjbxvnd1nvc851m0000gn/T/ipykernel_92039/2162656668.py:1: DeprecationWarning: \n",
      "Pyarrow will become a required dependency of pandas in the next major release of pandas (pandas 3.0),\n",
      "(to allow more performant data types, such as the Arrow string type, and better interoperability with other libraries)\n",
      "but was not found to be installed on your system.\n",
      "If this would cause problems for you,\n",
      "please provide us feedback at https://github.com/pandas-dev/pandas/issues/54466\n",
      "        \n",
      "  import pandas as pd\n"
     ]
    }
   ],
   "source": [
    "import pandas as pd\n",
    "import numpy as np"
   ]
  },
  {
   "cell_type": "code",
   "execution_count": 4,
   "metadata": {},
   "outputs": [],
   "source": [
    "file_path = \"../data/final/merged_double_digit.csv\""
   ]
  },
  {
   "cell_type": "code",
   "execution_count": 5,
   "metadata": {},
   "outputs": [],
   "source": [
    "df = pd.read_csv(file_path, index_col=None, header=0)"
   ]
  },
  {
   "cell_type": "code",
   "execution_count": 6,
   "metadata": {},
   "outputs": [
    {
     "data": {
      "text/html": [
       "<div>\n",
       "<style scoped>\n",
       "    .dataframe tbody tr th:only-of-type {\n",
       "        vertical-align: middle;\n",
       "    }\n",
       "\n",
       "    .dataframe tbody tr th {\n",
       "        vertical-align: top;\n",
       "    }\n",
       "\n",
       "    .dataframe thead th {\n",
       "        text-align: right;\n",
       "    }\n",
       "</style>\n",
       "<table border=\"1\" class=\"dataframe\">\n",
       "  <thead>\n",
       "    <tr style=\"text-align: right;\">\n",
       "      <th></th>\n",
       "      <th>Year</th>\n",
       "      <th>Region</th>\n",
       "      <th>Acc-ID</th>\n",
       "      <th>Realized</th>\n",
       "      <th>Budget y</th>\n",
       "      <th>Budget y+1</th>\n",
       "      <th>Slack</th>\n",
       "    </tr>\n",
       "  </thead>\n",
       "  <tbody>\n",
       "    <tr>\n",
       "      <th>0</th>\n",
       "      <td>2021</td>\n",
       "      <td>AG</td>\n",
       "      <td>30</td>\n",
       "      <td>1.710857e+06</td>\n",
       "      <td>1.724699e+06</td>\n",
       "      <td>1.824801e+06</td>\n",
       "      <td>13841.72964</td>\n",
       "    </tr>\n",
       "    <tr>\n",
       "      <th>1</th>\n",
       "      <td>2021</td>\n",
       "      <td>AG</td>\n",
       "      <td>31</td>\n",
       "      <td>4.651056e+05</td>\n",
       "      <td>4.463477e+05</td>\n",
       "      <td>4.863379e+05</td>\n",
       "      <td>-18757.87605</td>\n",
       "    </tr>\n",
       "    <tr>\n",
       "      <th>2</th>\n",
       "      <td>2021</td>\n",
       "      <td>AG</td>\n",
       "      <td>33</td>\n",
       "      <td>2.643898e+05</td>\n",
       "      <td>2.368410e+05</td>\n",
       "      <td>2.019982e+05</td>\n",
       "      <td>-27548.79548</td>\n",
       "    </tr>\n",
       "    <tr>\n",
       "      <th>3</th>\n",
       "      <td>2021</td>\n",
       "      <td>AG</td>\n",
       "      <td>35</td>\n",
       "      <td>3.554536e+05</td>\n",
       "      <td>3.509999e+04</td>\n",
       "      <td>1.177362e+05</td>\n",
       "      <td>-320353.65550</td>\n",
       "    </tr>\n",
       "    <tr>\n",
       "      <th>4</th>\n",
       "      <td>2021</td>\n",
       "      <td>AG</td>\n",
       "      <td>36</td>\n",
       "      <td>2.922549e+06</td>\n",
       "      <td>2.745166e+06</td>\n",
       "      <td>2.777999e+06</td>\n",
       "      <td>-177383.42905</td>\n",
       "    </tr>\n",
       "  </tbody>\n",
       "</table>\n",
       "</div>"
      ],
      "text/plain": [
       "   Year Region  Acc-ID      Realized      Budget y    Budget y+1         Slack\n",
       "0  2021     AG      30  1.710857e+06  1.724699e+06  1.824801e+06   13841.72964\n",
       "1  2021     AG      31  4.651056e+05  4.463477e+05  4.863379e+05  -18757.87605\n",
       "2  2021     AG      33  2.643898e+05  2.368410e+05  2.019982e+05  -27548.79548\n",
       "3  2021     AG      35  3.554536e+05  3.509999e+04  1.177362e+05 -320353.65550\n",
       "4  2021     AG      36  2.922549e+06  2.745166e+06  2.777999e+06 -177383.42905"
      ]
     },
     "execution_count": 6,
     "metadata": {},
     "output_type": "execute_result"
    }
   ],
   "source": [
    "df.head()"
   ]
  },
  {
   "cell_type": "code",
   "execution_count": 7,
   "metadata": {},
   "outputs": [
    {
     "data": {
      "text/plain": [
       "Year            int64\n",
       "Region         object\n",
       "Acc-ID          int64\n",
       "Realized      float64\n",
       "Budget y      float64\n",
       "Budget y+1    float64\n",
       "Slack         float64\n",
       "dtype: object"
      ]
     },
     "execution_count": 7,
     "metadata": {},
     "output_type": "execute_result"
    }
   ],
   "source": [
    "df.dtypes"
   ]
  },
  {
   "cell_type": "code",
   "execution_count": 8,
   "metadata": {},
   "outputs": [
    {
     "name": "stdout",
     "output_type": "stream",
     "text": [
      "<class 'pandas.core.frame.DataFrame'>\n",
      "RangeIndex: 8604 entries, 0 to 8603\n",
      "Data columns (total 7 columns):\n",
      " #   Column      Non-Null Count  Dtype  \n",
      "---  ------      --------------  -----  \n",
      " 0   Year        8604 non-null   int64  \n",
      " 1   Region      8604 non-null   object \n",
      " 2   Acc-ID      8604 non-null   int64  \n",
      " 3   Realized    8604 non-null   float64\n",
      " 4   Budget y    8604 non-null   float64\n",
      " 5   Budget y+1  8604 non-null   float64\n",
      " 6   Slack       8604 non-null   float64\n",
      "dtypes: float64(4), int64(2), object(1)\n",
      "memory usage: 470.7+ KB\n"
     ]
    }
   ],
   "source": [
    "df.info()"
   ]
  },
  {
   "cell_type": "code",
   "execution_count": null,
   "metadata": {},
   "outputs": [],
   "source": []
  }
 ],
 "metadata": {
  "kernelspec": {
   "display_name": "xai-budgeting-pFTxtpHW-py3.11",
   "language": "python",
   "name": "python3"
  },
  "language_info": {
   "codemirror_mode": {
    "name": "ipython",
    "version": 3
   },
   "file_extension": ".py",
   "mimetype": "text/x-python",
   "name": "python",
   "nbconvert_exporter": "python",
   "pygments_lexer": "ipython3",
   "version": "3.11.7"
  }
 },
 "nbformat": 4,
 "nbformat_minor": 2
}
