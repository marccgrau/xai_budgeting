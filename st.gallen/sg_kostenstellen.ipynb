{
 "cells": [
  {
   "cell_type": "code",
   "execution_count": 48,
   "metadata": {},
   "outputs": [],
   "source": [
    "import requests\n",
    "import pandas as pd\n",
    "import numpy as np\n",
    "import matplotlib.pyplot as plt"
   ]
  },
  {
   "cell_type": "code",
   "execution_count": 41,
   "metadata": {},
   "outputs": [
    {
     "name": "stdout",
     "output_type": "stream",
     "text": [
      "{'nhits': 193, 'parameters': {'dataset': 'kostenstellenplan-stadt-stgallen', 'rows': 100, 'start': 0, 'disjunctive': {'kst_bezeichnung': 'true'}, 'format': 'json', 'timezone': 'UTC'}, 'records': [{'datasetid': 'kostenstellenplan-stadt-stgallen', 'recordid': '3a73602e24f4e9f6bc49d5a7732de09c9be6dba8', 'fields': {'id': 'ID', 'abk': 'BB', 'nr': 1, 'kst_bisher': '1', 'kst_bezeichnung': 'Bürgerschaft und Behörden'}, 'record_timestamp': '2021-11-25T08:13:03.584Z'}, {'datasetid': 'kostenstellenplan-stadt-stgallen', 'recordid': '337ac5335af5c15cc0b2b32a078dd66b0a992052', 'fields': {'id': '1100-ID', 'nr': 3, 'kst_neu': '1100', 'kst_bisher': '11', 'kst_bezeichnung': 'Stadtparlament und parlamentarische Kommissionen'}, 'record_timestamp': '2021-11-25T08:13:03.584Z'}, {'datasetid': 'kostenstellenplan-stadt-stgallen', 'recordid': 'e6ab826cacfdae8944f6f75f7652d127488b49e2', 'fields': {'id': '1200-ID', 'nr': 6, 'kst_neu': '1200', 'kst_bisher': '12', 'kst_bezeichnung': 'Stadtrat'}, 'record_timestamp': '2021-11-25T08:13:03.584Z'}, {'datasetid': 'kostenstellenplan-stadt-stgallen', 'recordid': 'e30e49a0c4dea4bd005a3a1ae7617a80f726c1c1', 'fields': {'id': '1500-ID', 'nr': 9, 'kst_neu': '1500', 'kst_bisher': '15', 'kst_bezeichnung': 'Ombudsstelle'}, 'record_timestamp': '2021-11-25T08:13:03.584Z'}, {'datasetid': 'kostenstellenplan-stadt-stgallen', 'recordid': '29a496727a625b8082f192147ba9dc52054fbb7d', 'fields': {'id': '190-ID', 'abk': 'KOM', 'nr': 28, 'kst_neu': '190', 'kst_bisher': '19', 'kst_bezeichnung': 'Kommunikation'}, 'record_timestamp': '2021-11-25T08:13:03.584Z'}, {'datasetid': 'kostenstellenplan-stadt-stgallen', 'recordid': '87e3605b21874cbd7660c2216560e88b4c9e643b', 'fields': {'id': '220-ID', 'abk': 'BD', 'nr': 53, 'kst_neu': '220', 'kst_bisher': '22', 'kst_bezeichnung': 'Bevölkerungsdienste'}, 'record_timestamp': '2021-11-25T08:13:03.584Z'}, {'datasetid': 'kostenstellenplan-stadt-stgallen', 'recordid': '6ae6f2cb7c7bafa4d297d35bc5557c65c4cda2eb', 'fields': {'id': '2300-ID', 'nr': 61, 'kst_neu': '2300', 'kst_bisher': '291', 'kst_bezeichnung': 'Kulturförderung'}, 'record_timestamp': '2021-11-25T08:13:03.584Z'}, {'datasetid': 'kostenstellenplan-stadt-stgallen', 'recordid': '7a607bafb697494950f610f4595d60a0d6c3e36e', 'fields': {'id': '250-ID', 'abk': 'STA', 'nr': 118, 'kst_neu': '250', 'kst_bisher': '25', 'kst_bezeichnung': 'Steueramt'}, 'record_timestamp': '2021-11-25T08:13:03.584Z'}, {'datasetid': 'kostenstellenplan-stadt-stgallen', 'recordid': 'a6ad8d56cffdbebbc3e263c2b22967295cde976b', 'fields': {'id': '260-ID', 'abk': 'FIN', 'nr': 123, 'kst_neu': '260', 'kst_bisher': '26', 'kst_bezeichnung': 'Finanzen'}, 'record_timestamp': '2021-11-25T08:13:03.584Z'}, {'datasetid': 'kostenstellenplan-stadt-stgallen', 'recordid': '8957b1de330bdee03b25f70d8e786d566420cfbd', 'fields': {'id': '2600-ID', 'nr': 124, 'kst_neu': '2600', 'kst_bezeichnung': 'Verwaltung der Dienststelle'}, 'record_timestamp': '2021-11-25T08:13:03.584Z'}, {'datasetid': 'kostenstellenplan-stadt-stgallen', 'recordid': '421eaf7e48c52d3d3d6b3acbc6faaedd8209d285', 'fields': {'id': '2604-ID', 'nr': 137, 'kst_neu': '2604', 'kst_bisher': '269', 'kst_bezeichnung': 'Verlustscheinbewirtschaftung'}, 'record_timestamp': '2021-11-25T08:13:03.584Z'}, {'datasetid': 'kostenstellenplan-stadt-stgallen', 'recordid': '2d7c3f8a878c69562d732e199d9310e4f3ef77f4', 'fields': {'id': '270-ID', 'abk': 'PD', 'nr': 148, 'kst_neu': '270', 'kst_bisher': '27', 'kst_bezeichnung': 'Personaldienste'}, 'record_timestamp': '2021-11-25T08:13:03.584Z'}, {'datasetid': 'kostenstellenplan-stadt-stgallen', 'recordid': 'f6a61f279386b70ec51ab7fc77786bbb7c6e4951', 'fields': {'id': '280-ID', 'abk': 'IDS', 'nr': 161, 'kst_neu': '280', 'kst_bisher': '28', 'kst_bezeichnung': 'Informatikdienste'}, 'record_timestamp': '2021-11-25T08:13:03.584Z'}, {'datasetid': 'kostenstellenplan-stadt-stgallen', 'recordid': '2ae2f9e7962ee69bccdb5fba572ea058b5805dad', 'fields': {'id': '2800-ID', 'nr': 162, 'kst_neu': '2800', 'kst_bisher': '280', 'kst_bezeichnung': 'Verwaltung der Dienststelle'}, 'record_timestamp': '2021-11-25T08:13:03.584Z'}, {'datasetid': 'kostenstellenplan-stadt-stgallen', 'recordid': '6f6c5a5d36804e7a79db5a0dd6021fe1e1e5d722', 'fields': {'id': '2802-ID', 'nr': 166, 'kst_neu': '2802', 'kst_bisher': '282', 'kst_bezeichnung': 'Output'}, 'record_timestamp': '2021-11-25T08:13:03.584Z'}, {'datasetid': 'kostenstellenplan-stadt-stgallen', 'recordid': 'fdc25bc05f5bfbf208730988268b9916b9050a9c', 'fields': {'id': '2900-ID', 'nr': 175, 'kst_neu': '2900', 'kst_bisher': '290', 'kst_bezeichnung': 'Organisationsentwicklung'}, 'record_timestamp': '2021-11-25T08:13:03.584Z'}, {'datasetid': 'kostenstellenplan-stadt-stgallen', 'recordid': '9453ad13b35b76428dd0ed9260116f50bcaff08b', 'fields': {'id': 'ID', 'abk': 'DBF', 'nr': 177, 'kst_bisher': '3', 'kst_bezeichnung': 'Direktion Bildung und Freizeit'}, 'record_timestamp': '2021-11-25T08:13:03.584Z'}, {'datasetid': 'kostenstellenplan-stadt-stgallen', 'recordid': 'eb1cf2abcaef71da8af2ce5011e72bef1bf1d001', 'fields': {'id': '3103-ID', 'nr': 208, 'kst_neu': '3103', 'kst_bisher': '314', 'kst_bezeichnung': 'Musikschule'}, 'record_timestamp': '2021-11-25T08:13:03.584Z'}, {'datasetid': 'kostenstellenplan-stadt-stgallen', 'recordid': 'c07c79c5f4789cdb490d13e9aa08e4627da8fdcf', 'fields': {'id': '3105-ID', 'nr': 217, 'kst_neu': '3105', 'kst_bisher': '318', 'kst_bezeichnung': 'Tagesbetreuung'}, 'record_timestamp': '2021-11-25T08:13:03.584Z'}, {'datasetid': 'kostenstellenplan-stadt-stgallen', 'recordid': 'c593d8725c92e9b566697b64d382c789327b6d76', 'fields': {'id': '330-ID', 'abk': 'SG', 'nr': 221, 'kst_neu': '330', 'kst_bisher': '33', 'kst_bezeichnung': 'Schulgesundheit'}, 'record_timestamp': '2021-11-25T08:13:03.584Z'}, {'datasetid': 'kostenstellenplan-stadt-stgallen', 'recordid': '640396a9254c62a6643beb662040a994f228444b', 'fields': {'id': '3509-ID', 'nr': 244, 'kst_neu': '3509', 'kst_bisher': '359', 'kst_bezeichnung': 'Ausgehende laufende Beiträge'}, 'record_timestamp': '2021-11-25T08:13:03.584Z'}, {'datasetid': 'kostenstellenplan-stadt-stgallen', 'recordid': '6e36c1c8a4bbfe6d920e7f0539dd1ce9368c2c10', 'fields': {'id': '430-ID', 'abk': 'STAPO', 'nr': 331, 'kst_neu': '430', 'kst_bisher': '43', 'kst_bezeichnung': 'Stadtpolizei'}, 'record_timestamp': '2021-11-25T08:13:03.584Z'}, {'datasetid': 'kostenstellenplan-stadt-stgallen', 'recordid': 'c7c965e48d42579814db1c601c4149c8f29687c5', 'fields': {'id': '4300-ID', 'nr': 332, 'kst_neu': '4300', 'kst_bisher': '43', 'kst_bezeichnung': 'Polizeidienst'}, 'record_timestamp': '2021-11-25T08:13:03.584Z'}, {'datasetid': 'kostenstellenplan-stadt-stgallen', 'recordid': '7c3db4a835434fac64ed439913dcb35890f1d6de', 'fields': {'id': '4400-ID', 'nr': 351, 'kst_neu': '4400', 'kst_bisher': '440', 'kst_bezeichnung': 'Verwaltung der Dienststelle FW und Sicherheitsleistungen'}, 'record_timestamp': '2021-11-25T08:13:03.584Z'}, {'datasetid': 'kostenstellenplan-stadt-stgallen', 'recordid': '34d954e3cb9496681003b60c5789f5a88a707d9e', 'fields': {'id': '450-ID', 'abk': 'GF', 'nr': 367, 'kst_neu': '450', 'kst_bisher': '45', 'kst_bezeichnung': 'Gesellschaftsfragen'}, 'record_timestamp': '2021-11-25T08:13:03.584Z'}, {'datasetid': 'kostenstellenplan-stadt-stgallen', 'recordid': '8c68e6170c07edd827a87ff4edefe10e14e567e4', 'fields': {'id': '5001-ID', 'nr': 430, 'kst_neu': '5001', 'kst_bisher': '502', 'kst_bezeichnung': 'Ergebnisse der verwaltungseigenen Unternehmungen'}, 'record_timestamp': '2021-11-25T08:13:03.584Z'}, {'datasetid': 'kostenstellenplan-stadt-stgallen', 'recordid': '3611f105d0045a9497bcddd7f029faa06ffa806d', 'fields': {'id': '5009-ID', 'nr': 433, 'kst_neu': '5009', 'kst_bisher': '509', 'kst_bezeichnung': 'Ausgehende laufende Beiträge'}, 'record_timestamp': '2021-11-25T08:13:03.584Z'}, {'datasetid': 'kostenstellenplan-stadt-stgallen', 'recordid': '37b691877d2c8d5cae735368072c100d12cab81a', 'fields': {'id': '520-ID', 'abk': 'UE', 'nr': 649, 'kst_neu': '520', 'kst_bisher': '52', 'kst_bezeichnung': 'Umwelt und Energie'}, 'record_timestamp': '2021-11-25T08:13:03.584Z'}, {'datasetid': 'kostenstellenplan-stadt-stgallen', 'recordid': '2d5c001f271e5f7366649822293fa8c9018fbbbe', 'fields': {'id': '6204-ID', 'nr': 839, 'kst_neu': '6204', 'kst_bisher': '624', 'kst_bezeichnung': 'Schulgebäude'}, 'record_timestamp': '2021-11-25T08:13:03.584Z'}, {'datasetid': 'kostenstellenplan-stadt-stgallen', 'recordid': '6ce7bebcfb59d8f7199c4ceed8f8ec31e53da554', 'fields': {'id': '630-ID', 'abk': 'SGR', 'nr': 998, 'kst_neu': '630', 'kst_bisher': '63', 'kst_bezeichnung': 'Stadtgrün'}, 'record_timestamp': '2021-11-25T08:13:03.584Z'}, {'datasetid': 'kostenstellenplan-stadt-stgallen', 'recordid': 'e785d4474799c809b253a127c95ab1a6e9cc7aef', 'fields': {'id': '6304-ID', 'nr': 1007, 'kst_neu': '6304', 'kst_bezeichnung': 'Öffentliche Anlagen'}, 'record_timestamp': '2021-11-25T08:13:03.584Z'}, {'datasetid': 'kostenstellenplan-stadt-stgallen', 'recordid': 'ad668b86efbc0206043cc4d4f71494721ae291bf', 'fields': {'id': '6305-ID', 'nr': 1013, 'kst_neu': '6305', 'kst_bezeichnung': 'Friedhöfe'}, 'record_timestamp': '2021-11-25T08:13:03.584Z'}, {'datasetid': 'kostenstellenplan-stadt-stgallen', 'recordid': '15e879827ac1236074774062acc786615515575a', 'fields': {'id': '640-ID', 'abk': 'LIE', 'nr': 1021, 'kst_neu': '640', 'kst_bisher': '64', 'kst_bezeichnung': 'Liegenschaften'}, 'record_timestamp': '2021-11-25T08:13:03.584Z'}, {'datasetid': 'kostenstellenplan-stadt-stgallen', 'recordid': '58503c10b106112940060055fcd432b69995c44f', 'fields': {'id': '6500-ID', 'nr': 1357, 'kst_neu': '6500', 'kst_bezeichnung': 'Amt für Baubewilligungen'}, 'record_timestamp': '2021-11-25T08:13:03.584Z'}, {'datasetid': 'kostenstellenplan-stadt-stgallen', 'recordid': 'cf15ebd718ab84eabf851b1f92eaaee4ee6f49e5', 'fields': {'id': '6600-ID', 'nr': 1362, 'kst_neu': '6600', 'kst_bisher': '660', 'kst_bezeichnung': 'Verwaltung der Dienststelle'}, 'record_timestamp': '2021-11-25T08:13:03.584Z'}, {'datasetid': 'kostenstellenplan-stadt-stgallen', 'recordid': 'a893f83f32883a163b144b2e7b20ada7ea6afe29', 'fields': {'id': '670-ID', 'abk': 'GBA', 'nr': 1372, 'kst_neu': '670', 'kst_bezeichnung': 'Grundbuchamt'}, 'record_timestamp': '2021-11-25T08:13:03.584Z'}, {'datasetid': 'kostenstellenplan-stadt-stgallen', 'recordid': '2bbd3283a8220b9903774230c1780c4f581a678a', 'fields': {'id': '6800-ID', 'nr': 1376, 'kst_neu': '6800', 'kst_bezeichnung': 'Stadtplanung'}, 'record_timestamp': '2021-11-25T08:13:03.584Z'}, {'datasetid': 'kostenstellenplan-stadt-stgallen', 'recordid': '466337501c20fb7ee077daa33ff40097785cf6c8', 'fields': {'id': '856-ID', 'abk': 'VBSG', 'nr': 1385, 'kst_neu': '856', 'kst_bisher': '56', 'kst_bezeichnung': 'Verkehrsbetriebe'}, 'record_timestamp': '2021-11-25T08:13:03.584Z'}, {'datasetid': 'kostenstellenplan-stadt-stgallen', 'recordid': '931e7f7b7862faba0852592a8cba769b70599c4b', 'fields': {'id': '931-ID', 'abk': 'SUM', 'nr': 1399, 'kst_neu': '931', 'kst_bezeichnung': 'IR Investitionen SUM'}, 'record_timestamp': '2021-11-25T08:13:03.584Z'}, {'datasetid': 'kostenstellenplan-stadt-stgallen', 'recordid': 'f87b3b593779094e6aa8e2dc340eb5d76f46d8d8', 'fields': {'id': '943-ID', 'abk': 'STAPO', 'nr': 1401, 'kst_neu': '943', 'kst_bezeichnung': 'IR Investitionen STAPO'}, 'record_timestamp': '2021-11-25T08:13:03.584Z'}, {'datasetid': 'kostenstellenplan-stadt-stgallen', 'recordid': '2c09158e4a5721c43d11543e287935803a602d9a', 'fields': {'id': '965-ID', 'abk': 'ABB', 'nr': 1407, 'kst_neu': '965', 'kst_bezeichnung': 'IR Investitionen ABB'}, 'record_timestamp': '2021-11-25T08:13:03.584Z'}, {'datasetid': 'kostenstellenplan-stadt-stgallen', 'recordid': 'dba17f5e0551c305ba96d04db065796bd02d97a4', 'fields': {'id': '110-ID', 'nr': 2, 'kst_neu': '110', 'kst_bisher': '11', 'kst_bezeichnung': 'Stadtparlament'}, 'record_timestamp': '2021-11-25T08:13:03.584Z'}, {'datasetid': 'kostenstellenplan-stadt-stgallen', 'recordid': 'cdfb34a0b14532cd82280f2ca995873abd3a9326', 'fields': {'id': '230-ID', 'abk': 'KF', 'nr': 60, 'kst_neu': '230', 'kst_bisher': '291', 'kst_bezeichnung': 'Kulturförderung'}, 'record_timestamp': '2021-11-25T08:13:03.584Z'}, {'datasetid': 'kostenstellenplan-stadt-stgallen', 'recordid': 'eaf8aee3c86ce54c727740ba52346f259de08d2b', 'fields': {'id': '2309-ID', 'nr': 63, 'kst_neu': '2309', 'kst_bisher': '209', 'kst_bezeichnung': 'Ausgehende laufende Beiträge'}, 'record_timestamp': '2021-11-25T08:13:03.584Z'}, {'datasetid': 'kostenstellenplan-stadt-stgallen', 'recordid': 'adadbe9765b1fb859aea3d26bfe4156c0e527d15', 'fields': {'id': '2500-ID', 'nr': 119, 'kst_neu': '2500', 'kst_bisher': '25', 'kst_bezeichnung': 'Steueramt'}, 'record_timestamp': '2021-11-25T08:13:03.584Z'}, {'datasetid': 'kostenstellenplan-stadt-stgallen', 'recordid': 'e7773dbeba1dd67a0cfd713f7587d9251d595d1b', 'fields': {'id': '2801-ID', 'nr': 164, 'kst_neu': '2801', 'kst_bisher': '281', 'kst_bezeichnung': 'Informatik und Geräte der Büroautomation'}, 'record_timestamp': '2021-11-25T08:13:03.584Z'}, {'datasetid': 'kostenstellenplan-stadt-stgallen', 'recordid': '9c85bee9f68ffc136149e11128737719622e64bb', 'fields': {'id': '2803-ID', 'nr': 168, 'kst_neu': '2803', 'kst_bisher': '283', 'kst_bezeichnung': 'Netzwerke'}, 'record_timestamp': '2021-11-25T08:13:03.584Z'}, {'datasetid': 'kostenstellenplan-stadt-stgallen', 'recordid': '30bf62ec9db754bbb0caca072bfe1086b126b997', 'fields': {'id': '300-ID', 'abk': 'SBF', 'nr': 178, 'kst_neu': '300', 'kst_bisher': '30', 'kst_bezeichnung': 'Stab Bildung und Freizeit'}, 'record_timestamp': '2021-11-25T08:13:03.584Z'}, {'datasetid': 'kostenstellenplan-stadt-stgallen', 'recordid': 'ef52b7651bbc145079aa7792b5a6bdac545d3660', 'fields': {'id': '310-ID', 'abk': 'SUM', 'nr': 189, 'kst_neu': '310', 'kst_bisher': '31', 'kst_bezeichnung': 'Schule und Musik'}, 'record_timestamp': '2021-11-25T08:13:03.584Z'}, {'datasetid': 'kostenstellenplan-stadt-stgallen', 'recordid': 'f310dee12247f53fd32e266fd900f1a24331a420', 'fields': {'id': '3102-ID', 'nr': 201, 'kst_neu': '3102', 'kst_bisher': '312', 'kst_bezeichnung': 'Oberstufe'}, 'record_timestamp': '2021-11-25T08:13:03.584Z'}, {'datasetid': 'kostenstellenplan-stadt-stgallen', 'recordid': '21213b98610d374aa3667f7603fde3654f00ab3a', 'fields': {'id': '340-ID', 'abk': 'KJF', 'nr': 229, 'kst_neu': '340', 'kst_bisher': '34', 'kst_bezeichnung': 'Kinder Jugend Familie'}, 'record_timestamp': '2021-11-25T08:13:03.584Z'}, {'datasetid': 'kostenstellenplan-stadt-stgallen', 'recordid': '707478aee0086d2963f4ae95f067e1c6044830b6', 'fields': {'id': '3401-ID', 'nr': 238, 'kst_neu': '3401', 'kst_bisher': '341', 'kst_bezeichnung': 'Stadtbibliothek'}, 'record_timestamp': '2021-11-25T08:13:03.584Z'}, {'datasetid': 'kostenstellenplan-stadt-stgallen', 'recordid': '84c266d11fdcd142dd5d9701d338c8c82b72786a', 'fields': {'id': '350-ID', 'abk': 'SPO', 'nr': 240, 'kst_neu': '350', 'kst_bisher': '35', 'kst_bezeichnung': 'Sport'}, 'record_timestamp': '2021-11-25T08:13:03.584Z'}, {'datasetid': 'kostenstellenplan-stadt-stgallen', 'recordid': '644e41b33f7abbf5edcbbd441568fc389b020e59', 'fields': {'id': '3903-ID', 'nr': 279, 'kst_neu': '3903', 'kst_bisher': '393', 'kst_bezeichnung': 'Anlagenbetrieb Bad'}, 'record_timestamp': '2021-11-25T08:13:03.584Z'}, {'datasetid': 'kostenstellenplan-stadt-stgallen', 'recordid': '0048cfed4bcafea24dff5d7d6681b1d8efda2418', 'fields': {'id': '3904-ID', 'nr': 285, 'kst_neu': '3904', 'kst_bisher': '394', 'kst_bezeichnung': 'Anlagenbetrieb Eis'}, 'record_timestamp': '2021-11-25T08:13:03.584Z'}, {'datasetid': 'kostenstellenplan-stadt-stgallen', 'recordid': 'fdef494c5fa9cd97da031f064e9a55dad03dbeff', 'fields': {'id': '4009-ID', 'nr': 292, 'kst_neu': '4009', 'kst_bezeichnung': 'Ausgehende laufende Beiträge'}, 'record_timestamp': '2021-11-25T08:13:03.584Z'}, {'datasetid': 'kostenstellenplan-stadt-stgallen', 'recordid': 'df1b5f3d9b10ed897b03f6bad2b0f8aded9c83ea', 'fields': {'id': '4100-ID', 'nr': 296, 'kst_neu': '4100', 'kst_bezeichnung': 'Verwaltung der Dienststelle'}, 'record_timestamp': '2021-11-25T08:13:03.584Z'}, {'datasetid': 'kostenstellenplan-stadt-stgallen', 'recordid': '0c0514f3202e9cd2387ee1536b713f454e4fbcb7', 'fields': {'id': '4101-ID', 'nr': 302, 'kst_neu': '4101', 'kst_bezeichnung': 'Krankenkassenprämien'}, 'record_timestamp': '2021-11-25T08:13:03.584Z'}, {'datasetid': 'kostenstellenplan-stadt-stgallen', 'recordid': '87175175e19f04677ab76b75a53074026710d35a', 'fields': {'id': '4105-ID', 'nr': 325, 'kst_neu': '4105', 'kst_bezeichnung': 'Betreutes Wohnen'}, 'record_timestamp': '2021-11-25T08:13:03.584Z'}, {'datasetid': 'kostenstellenplan-stadt-stgallen', 'recordid': '37c8bd2e6b4f8f0acdce6714567f2a2a9b4b3727', 'fields': {'id': '4301-ID', 'nr': 339, 'kst_neu': '4301', 'kst_bisher': '431', 'kst_bezeichnung': 'Marktpolizei'}, 'record_timestamp': '2021-11-25T08:13:03.584Z'}, {'datasetid': 'kostenstellenplan-stadt-stgallen', 'recordid': 'a2f83880747f34a75e4cfa6c479f9a36989874b2', 'fields': {'id': '4402-ID', 'nr': 363, 'kst_neu': '4402', 'kst_bisher': '442', 'kst_bezeichnung': 'Zvilschutz Stadt St.Gallen'}, 'record_timestamp': '2021-11-25T08:13:03.584Z'}, {'datasetid': 'kostenstellenplan-stadt-stgallen', 'recordid': '26929948e1d912703924a0aa0b0051405d08f470', 'fields': {'id': '5000-ID', 'nr': 427, 'kst_neu': '5000', 'kst_bezeichnung': 'Stab Technische Betriebe'}, 'record_timestamp': '2021-11-25T08:13:03.584Z'}, {'datasetid': 'kostenstellenplan-stadt-stgallen', 'recordid': '76d56c9666cc1c3eb7df8af05a81aeb1c0dfaaf6', 'fields': {'id': '5200-ID', 'nr': 650, 'kst_neu': '5200', 'kst_bezeichnung': 'Umwelt und Energie'}, 'record_timestamp': '2021-11-25T08:13:03.584Z'}, {'datasetid': 'kostenstellenplan-stadt-stgallen', 'recordid': '39b7fa018925147d00a753ed08ba7381cb45014e', 'fields': {'id': '6009-ID', 'nr': 662, 'kst_neu': '6009', 'kst_bisher': '609', 'kst_bezeichnung': 'Ausgehende laufende Beiträge'}, 'record_timestamp': '2021-11-25T08:13:03.584Z'}, {'datasetid': 'kostenstellenplan-stadt-stgallen', 'recordid': '28052c682f5b91492eb30e42c49c91d96b40dec4', 'fields': {'id': '620-ID', 'abk': 'HBA', 'nr': 771, 'kst_neu': '620', 'kst_bisher': '62', 'kst_bezeichnung': 'Hochbauamt'}, 'record_timestamp': '2021-11-25T08:13:03.584Z'}, {'datasetid': 'kostenstellenplan-stadt-stgallen', 'recordid': 'd9162d69ead08dc08f4813a0c1e3cafac729216e', 'fields': {'id': '6205-ID', 'nr': 977, 'kst_neu': '6205', 'kst_bisher': '625', 'kst_bezeichnung': 'Sportgebäude'}, 'record_timestamp': '2021-11-25T08:13:03.584Z'}, {'datasetid': 'kostenstellenplan-stadt-stgallen', 'recordid': '127be4dfb82dcf0d92ade9d8f0aeaf63e31c0961', 'fields': {'id': '6403-ID', 'nr': 1350, 'kst_neu': '6403', 'kst_bisher': '643', 'kst_bezeichnung': 'Bauplätze'}, 'record_timestamp': '2021-11-25T08:13:03.584Z'}, {'datasetid': 'kostenstellenplan-stadt-stgallen', 'recordid': 'af237b161b9988ebd916de0040b446bf68bc1629', 'fields': {'id': '6405-ID', 'nr': 1354, 'kst_neu': '6405', 'kst_bisher': '645', 'kst_bezeichnung': 'Bodenabschnitte'}, 'record_timestamp': '2021-11-25T08:13:03.584Z'}, {'datasetid': 'kostenstellenplan-stadt-stgallen', 'recordid': '7406766815a0612c5e19c7614a21b3478306beea', 'fields': {'id': '650-ID', 'abk': 'ABB', 'nr': 1356, 'kst_neu': '650', 'kst_bisher': '65', 'kst_bezeichnung': 'Amt für Baubewilligungen'}, 'record_timestamp': '2021-11-25T08:13:03.584Z'}, {'datasetid': 'kostenstellenplan-stadt-stgallen', 'recordid': '434953466e74596738bb7362b09ca9aef210e5be', 'fields': {'id': '855-ID', 'abk': 'SGSW', 'nr': 1382, 'kst_neu': '855', 'kst_bisher': '55', 'kst_bezeichnung': 'Stadtwerke'}, 'record_timestamp': '2021-11-25T08:13:03.584Z'}, {'datasetid': 'kostenstellenplan-stadt-stgallen', 'recordid': '9230982a5724af72098b8dbb4bde48a95a3baf15', 'fields': {'id': '8550-ID', 'nr': 1383, 'kst_neu': '8550', 'kst_bezeichnung': 'Stadtwerke'}, 'record_timestamp': '2021-11-25T08:13:03.584Z'}, {'datasetid': 'kostenstellenplan-stadt-stgallen', 'recordid': 'e813ae69a8f4cf0d2de360e0e80225641f5e02df', 'fields': {'id': '916-ID', 'abk': 'SK', 'nr': 1393, 'kst_neu': '916', 'kst_bezeichnung': 'IR Investitionen SK'}, 'record_timestamp': '2021-11-25T08:13:03.584Z'}, {'datasetid': 'kostenstellenplan-stadt-stgallen', 'recordid': 'c343a3e72ed3d2b9b7503f4ad59b79a6fe352728', 'fields': {'id': '927-ID', 'abk': 'PD', 'nr': 1396, 'kst_neu': '927', 'kst_bezeichnung': 'IR Investitionen PD'}, 'record_timestamp': '2021-11-25T08:13:03.584Z'}, {'datasetid': 'kostenstellenplan-stadt-stgallen', 'recordid': '2e6092b903d3ae4b24113ed3872b6bb4c544330d', 'fields': {'id': '1600-ID', 'nr': 12, 'kst_neu': '1600', 'kst_bisher': '160', 'kst_bezeichnung': 'Stadtkanzlei'}, 'record_timestamp': '2021-11-25T08:13:03.584Z'}, {'datasetid': 'kostenstellenplan-stadt-stgallen', 'recordid': '11688de35b880f9e47f2f98520a5352b92132a52', 'fields': {'id': '170-ID', 'abk': 'RL', 'nr': 22, 'kst_neu': '170', 'kst_bisher': '17', 'kst_bezeichnung': 'Recht und Legistik'}, 'record_timestamp': '2021-11-25T08:13:03.584Z'}, {'datasetid': 'kostenstellenplan-stadt-stgallen', 'recordid': '5eeaa8e86422ac0b256f090585ae65b7247a03f8', 'fields': {'id': '1800-ID', 'nr': 26, 'kst_neu': '1800', 'kst_bisher': '18', 'kst_bezeichnung': 'Finanzkontrolle'}, 'record_timestamp': '2021-11-25T08:13:03.584Z'}, {'datasetid': 'kostenstellenplan-stadt-stgallen', 'recordid': 'f8d9ded6849a7cacae58a6fd9d94aeaab3becb90', 'fields': {'id': '1900-ID', 'nr': 29, 'kst_neu': '1900', 'kst_bisher': '19', 'kst_bezeichnung': 'Kommunikation'}, 'record_timestamp': '2021-11-25T08:13:03.584Z'}, {'datasetid': 'kostenstellenplan-stadt-stgallen', 'recordid': 'ad8aacdebb952c5ff95ad86d5dc8e88b22bb33ff', 'fields': {'id': '2200-ID', 'nr': 54, 'kst_neu': '2200', 'kst_bisher': '220', 'kst_bezeichnung': 'Bevölkerungsdienste'}, 'record_timestamp': '2021-11-25T08:13:03.584Z'}, {'datasetid': 'kostenstellenplan-stadt-stgallen', 'recordid': 'e691814e9e464682ba7c5c25c2793a31c7dea606', 'fields': {'id': '240-ID', 'abk': 'BA', 'nr': 115, 'kst_neu': '240', 'kst_bisher': '24', 'kst_bezeichnung': 'Betreibungsamt'}, 'record_timestamp': '2021-11-25T08:13:03.584Z'}, {'datasetid': 'kostenstellenplan-stadt-stgallen', 'recordid': 'c3807f8d287791e4e156c138e55d1730e234822f', 'fields': {'id': '2602-ID', 'nr': 128, 'kst_neu': '2602', 'kst_bisher': '268', 'kst_bezeichnung': 'Abschreibungen auf VV (bestehende Buchwerte bis 31.12.2021)'}, 'record_timestamp': '2021-11-25T08:13:03.584Z'}, {'datasetid': 'kostenstellenplan-stadt-stgallen', 'recordid': '3ddfabcf6be77eb106136261ddbdbca585fe4b41', 'fields': {'id': '2603-ID', 'nr': 132, 'kst_neu': '2603', 'kst_bisher': '263', 'kst_bezeichnung': 'Treasury'}, 'record_timestamp': '2021-11-25T08:13:03.584Z'}, {'datasetid': 'kostenstellenplan-stadt-stgallen', 'recordid': '57012bb469eb2dfd2cbbc6a29c6f1de3d9878ada', 'fields': {'id': '2606-ID', 'nr': 141, 'kst_neu': '2606', 'kst_bezeichnung': 'Beschaffungskoordination'}, 'record_timestamp': '2021-11-25T08:13:03.584Z'}, {'datasetid': 'kostenstellenplan-stadt-stgallen', 'recordid': 'e81b08836712d80643c4e8e395fb74d0e20f6661', 'fields': {'id': '2703-ID', 'nr': 155, 'kst_neu': '2703', 'kst_bisher': '273', 'kst_bezeichnung': 'Nicht aufteilbarer Personalaufwand/-ertrag'}, 'record_timestamp': '2021-11-25T08:13:03.584Z'}, {'datasetid': 'kostenstellenplan-stadt-stgallen', 'recordid': '9e63a5689a08d066edf1871f59c267b9e233d7b7', 'fields': {'id': '2704-ID', 'nr': 159, 'kst_neu': '2704', 'kst_bisher': '274', 'kst_bezeichnung': 'Caféteria Rathaus und Amtshaus'}, 'record_timestamp': '2021-11-25T08:13:03.584Z'}, {'datasetid': 'kostenstellenplan-stadt-stgallen', 'recordid': '69f3db7e7b159e216bfdfc2963ce9fd16096ddd2', 'fields': {'id': '3104-ID', 'nr': 210, 'kst_neu': '3104', 'kst_bisher': '319', 'kst_bezeichnung': 'Schulgelder und Zusatzangebote'}, 'record_timestamp': '2021-11-25T08:13:03.584Z'}, {'datasetid': 'kostenstellenplan-stadt-stgallen', 'recordid': '82e2ebb5c530d3bc0cd0f7a81b3b55cfe6de5f50', 'fields': {'id': '3500-ID', 'nr': 241, 'kst_neu': '3500', 'kst_bisher': '350', 'kst_bezeichnung': 'Sekretariat und Dienste'}, 'record_timestamp': '2021-11-25T08:13:03.584Z'}, {'datasetid': 'kostenstellenplan-stadt-stgallen', 'recordid': 'afe038d075ee949031c0880ad5dacd0e46af961e', 'fields': {'id': '3900-ID', 'nr': 258, 'kst_neu': '3900', 'kst_bisher': '390', 'kst_bezeichnung': 'Sekretariat und Dienste'}, 'record_timestamp': '2021-11-25T08:13:03.584Z'}, {'datasetid': 'kostenstellenplan-stadt-stgallen', 'recordid': '8589aa6f124c6b1f77fde9f0df1df8526eced167', 'fields': {'id': '4000-ID', 'nr': 290, 'kst_neu': '4000', 'kst_bisher': '401', 'kst_bezeichnung': 'Sekretariat und Dienste'}, 'record_timestamp': '2021-11-25T08:13:03.584Z'}, {'datasetid': 'kostenstellenplan-stadt-stgallen', 'recordid': '6b8f32cdc17c24560e778895a72522e045e492df', 'fields': {'id': '4103-ID', 'nr': 309, 'kst_neu': '4103', 'kst_bezeichnung': 'Asyl- und Flüchtlingswesen'}, 'record_timestamp': '2021-11-25T08:13:03.584Z'}, {'datasetid': 'kostenstellenplan-stadt-stgallen', 'recordid': '61fc877beb2c625f4665f304ba990feffef0dfe0', 'fields': {'id': '4200-ID', 'nr': 328, 'kst_neu': '4200', 'kst_bisher': '42', 'kst_bezeichnung': 'KESB'}, 'record_timestamp': '2021-11-25T08:13:03.584Z'}, {'datasetid': 'kostenstellenplan-stadt-stgallen', 'recordid': 'f44988045f181512c9b3220f58aff39e634a9c5b', 'fields': {'id': '440-ID', 'abk': 'FWZSSG', 'nr': 350, 'kst_neu': '440', 'kst_bisher': '44', 'kst_bezeichnung': 'Feuerwehr und Zivilschutz'}, 'record_timestamp': '2021-11-25T08:13:03.584Z'}, {'datasetid': 'kostenstellenplan-stadt-stgallen', 'recordid': '8de46d188b23fe41997ffda00dfb5307d679010d', 'fields': {'id': '4401-ID', 'nr': 357, 'kst_neu': '4401', 'kst_bisher': '441', 'kst_bezeichnung': 'Feuerwehr'}, 'record_timestamp': '2021-11-25T08:13:03.584Z'}, {'datasetid': 'kostenstellenplan-stadt-stgallen', 'recordid': '6267baac33c0b4e349c2a2ce404cd7e5838ed790', 'fields': {'id': '4500-ID', 'nr': 368, 'kst_neu': '4500', 'kst_bisher': '450', 'kst_bezeichnung': 'Verwaltung der Dienststelle'}, 'record_timestamp': '2021-11-25T08:13:03.584Z'}, {'datasetid': 'kostenstellenplan-stadt-stgallen', 'recordid': '86f39ec57fbabf6e592af27e17408c4d7453239a', 'fields': {'id': '5102-ID', 'nr': 479, 'kst_neu': '5102', 'kst_bisher': '512', 'kst_bezeichnung': 'Deponie'}, 'record_timestamp': '2021-11-25T08:13:03.584Z'}, {'datasetid': 'kostenstellenplan-stadt-stgallen', 'recordid': '9ecbcfed2370bb263ee669a66416ebc1d1088976', 'fields': {'id': 'ID', 'abk': 'DPB', 'nr': 658, 'kst_bisher': '6', 'kst_bezeichnung': 'Direktion Planung und Bau'}, 'record_timestamp': '2021-11-25T08:13:03.584Z'}, {'datasetid': 'kostenstellenplan-stadt-stgallen', 'recordid': '1ac63d8d6b656d20b437796ee962490b67842087', 'fields': {'id': '610-ID', 'abk': 'TBA', 'nr': 691, 'kst_neu': '610', 'kst_bisher': '61', 'kst_bezeichnung': 'Tiefbauamt'}, 'record_timestamp': '2021-11-25T08:13:03.584Z'}, {'datasetid': 'kostenstellenplan-stadt-stgallen', 'recordid': '260649ebc47c8e2ba3bc01a4c0c01c4e05076aaa', 'fields': {'id': '6100-ID', 'nr': 692, 'kst_neu': '6100', 'kst_bisher': '610', 'kst_bezeichnung': 'Tiefbauamt'}, 'record_timestamp': '2021-11-25T08:13:03.584Z'}, {'datasetid': 'kostenstellenplan-stadt-stgallen', 'recordid': 'a85a97d58c11426a1c4d5a37f172a2d9e81179d8', 'fields': {'id': '6201-ID', 'nr': 774, 'kst_neu': '6201', 'kst_bisher': '621', 'kst_bezeichnung': 'Öffentliche Gebäude'}, 'record_timestamp': '2021-11-25T08:13:03.584Z'}, {'datasetid': 'kostenstellenplan-stadt-stgallen', 'recordid': '7978c190b6eb5d6b0101e7207a06b5fe5dd037c3', 'fields': {'id': '6301-ID', 'nr': 1001, 'kst_neu': '6301', 'kst_bezeichnung': 'Fahrzeuge, Maschinen und Werkstätten'}, 'record_timestamp': '2021-11-25T08:13:03.584Z'}, {'datasetid': 'kostenstellenplan-stadt-stgallen', 'recordid': '96a607d559cee6db3ff3884dcf654869b6433696', 'fields': {'id': '6302-ID', 'nr': 1003, 'kst_neu': '6302', 'kst_bezeichnung': 'Bauten und Objekte'}, 'record_timestamp': '2021-11-25T08:13:03.584Z'}]}\n"
     ]
    }
   ],
   "source": [
    "def get_data_from_api():\n",
    "    # API endpoint URL\n",
    "    url = 'https://daten.stadt.sg.ch/api/records/1.0/search/?dataset=kostenstellenplan-stadt-stgallen'\n",
    "\n",
    "    # Optional: Define parameters for the API request\n",
    "    params = {\n",
    "        # Example parameters, you can modify or add more based on your requirements\n",
    "        'rows': 100,  # Adjust the number of records to fetch as needed\n",
    "        'disjunctive.kst_bezeichnung': 'true'\n",
    "    }\n",
    "\n",
    "    # Make the GET request\n",
    "    response = requests.get(url, params=params)\n",
    "\n",
    "    # Check if the request was successful\n",
    "    if response.status_code == 200:\n",
    "        return response.json()  # Return the JSON response\n",
    "    else:\n",
    "        return f'Error: {response.status_code}'\n",
    "\n",
    "# Call the function to get data\n",
    "data = get_data_from_api()\n",
    "print(data)"
   ]
  },
  {
   "cell_type": "code",
   "execution_count": 62,
   "metadata": {},
   "outputs": [
    {
     "name": "stdout",
     "output_type": "stream",
     "text": [
      "  kst_bisher kst_neu   abk                                   kst_bezeichnung  \\\n",
      "0          1    None    BB                         Bürgerschaft und Behörden   \n",
      "1         11    1100  None  Stadtparlament und parlamentarische Kommissionen   \n",
      "2         12    1200  None                                          Stadtrat   \n",
      "3         15    1500  None                                      Ombudsstelle   \n",
      "4         19     190   KOM                                     Kommunikation   \n",
      "\n",
      "                                         id  nr  \n",
      "0  3a73602e24f4e9f6bc49d5a7732de09c9be6dba8   1  \n",
      "1  337ac5335af5c15cc0b2b32a078dd66b0a992052   3  \n",
      "2  e6ab826cacfdae8944f6f75f7652d127488b49e2   6  \n",
      "3  e30e49a0c4dea4bd005a3a1ae7617a80f726c1c1   9  \n",
      "4  29a496727a625b8082f192147ba9dc52054fbb7d  28  \n"
     ]
    }
   ],
   "source": [
    "# Parse and create a dataframe\n",
    "if isinstance(data, dict) and 'records' in data:\n",
    "    # Extract the fields from each record\n",
    "    records = data['records']\n",
    "    df_data = []\n",
    "    for record in records:\n",
    "        fields = record.get('fields', {})\n",
    "        df_data.append({\n",
    "            'kst_bisher': fields.get('kst_bisher'),\n",
    "            'kst_neu': fields.get('kst_neu'),\n",
    "            'abk': fields.get('abk'),\n",
    "            'kst_bezeichnung': fields.get('kst_bezeichnung'),\n",
    "            'id': record.get('recordid'),\n",
    "            'nr': fields.get('nr')\n",
    "        })\n",
    "\n",
    "    # Create the dataframe\n",
    "    df = pd.DataFrame(df_data)\n",
    "\n",
    "    # Display the dataframe\n",
    "    print(df.head())\n",
    "else:\n",
    "    print(\"Error or unexpected format in API response:\", data)\n"
   ]
  },
  {
   "cell_type": "markdown",
   "metadata": {},
   "source": [
    "In the following dataframe, \"kst_bisher\" is aligned with “HRM1 Kontenrahmen”. \"kst_neu\" contains the updated accounts, based on \"HRM2 Kontenrahmen”."
   ]
  },
  {
   "cell_type": "code",
   "execution_count": 40,
   "metadata": {},
   "outputs": [
    {
     "data": {
      "text/html": [
       "<div>\n",
       "<style scoped>\n",
       "    .dataframe tbody tr th:only-of-type {\n",
       "        vertical-align: middle;\n",
       "    }\n",
       "\n",
       "    .dataframe tbody tr th {\n",
       "        vertical-align: top;\n",
       "    }\n",
       "\n",
       "    .dataframe thead th {\n",
       "        text-align: right;\n",
       "    }\n",
       "</style>\n",
       "<table border=\"1\" class=\"dataframe\">\n",
       "  <thead>\n",
       "    <tr style=\"text-align: right;\">\n",
       "      <th></th>\n",
       "      <th>kst_bisher</th>\n",
       "      <th>kst_neu</th>\n",
       "      <th>abk</th>\n",
       "      <th>kst_bezeichnung</th>\n",
       "      <th>id</th>\n",
       "      <th>nr</th>\n",
       "    </tr>\n",
       "  </thead>\n",
       "  <tbody>\n",
       "    <tr>\n",
       "      <th>0</th>\n",
       "      <td>1</td>\n",
       "      <td>None</td>\n",
       "      <td>BB</td>\n",
       "      <td>Bürgerschaft und Behörden</td>\n",
       "      <td>3a73602e24f4e9f6bc49d5a7732de09c9be6dba8</td>\n",
       "      <td>1</td>\n",
       "    </tr>\n",
       "    <tr>\n",
       "      <th>1</th>\n",
       "      <td>11</td>\n",
       "      <td>1100</td>\n",
       "      <td>None</td>\n",
       "      <td>Stadtparlament und parlamentarische Kommissionen</td>\n",
       "      <td>337ac5335af5c15cc0b2b32a078dd66b0a992052</td>\n",
       "      <td>3</td>\n",
       "    </tr>\n",
       "    <tr>\n",
       "      <th>2</th>\n",
       "      <td>12</td>\n",
       "      <td>1200</td>\n",
       "      <td>None</td>\n",
       "      <td>Stadtrat</td>\n",
       "      <td>e6ab826cacfdae8944f6f75f7652d127488b49e2</td>\n",
       "      <td>6</td>\n",
       "    </tr>\n",
       "    <tr>\n",
       "      <th>3</th>\n",
       "      <td>15</td>\n",
       "      <td>1500</td>\n",
       "      <td>None</td>\n",
       "      <td>Ombudsstelle</td>\n",
       "      <td>e30e49a0c4dea4bd005a3a1ae7617a80f726c1c1</td>\n",
       "      <td>9</td>\n",
       "    </tr>\n",
       "    <tr>\n",
       "      <th>4</th>\n",
       "      <td>19</td>\n",
       "      <td>190</td>\n",
       "      <td>KOM</td>\n",
       "      <td>Kommunikation</td>\n",
       "      <td>29a496727a625b8082f192147ba9dc52054fbb7d</td>\n",
       "      <td>28</td>\n",
       "    </tr>\n",
       "  </tbody>\n",
       "</table>\n",
       "</div>"
      ],
      "text/plain": [
       "  kst_bisher kst_neu   abk                                   kst_bezeichnung  \\\n",
       "0          1    None    BB                         Bürgerschaft und Behörden   \n",
       "1         11    1100  None  Stadtparlament und parlamentarische Kommissionen   \n",
       "2         12    1200  None                                          Stadtrat   \n",
       "3         15    1500  None                                      Ombudsstelle   \n",
       "4         19     190   KOM                                     Kommunikation   \n",
       "\n",
       "                                         id  nr  \n",
       "0  3a73602e24f4e9f6bc49d5a7732de09c9be6dba8   1  \n",
       "1  337ac5335af5c15cc0b2b32a078dd66b0a992052   3  \n",
       "2  e6ab826cacfdae8944f6f75f7652d127488b49e2   6  \n",
       "3  e30e49a0c4dea4bd005a3a1ae7617a80f726c1c1   9  \n",
       "4  29a496727a625b8082f192147ba9dc52054fbb7d  28  "
      ]
     },
     "execution_count": 40,
     "metadata": {},
     "output_type": "execute_result"
    }
   ],
   "source": [
    "df.head()"
   ]
  },
  {
   "cell_type": "markdown",
   "metadata": {},
   "source": [
    "Check how many cost accounts survived the HRM1 -> HRM2 switch"
   ]
  },
  {
   "cell_type": "code",
   "execution_count": 77,
   "metadata": {},
   "outputs": [
    {
     "data": {
      "text/html": [
       "<div>\n",
       "<style scoped>\n",
       "    .dataframe tbody tr th:only-of-type {\n",
       "        vertical-align: middle;\n",
       "    }\n",
       "\n",
       "    .dataframe tbody tr th {\n",
       "        vertical-align: top;\n",
       "    }\n",
       "\n",
       "    .dataframe thead th {\n",
       "        text-align: right;\n",
       "    }\n",
       "</style>\n",
       "<table border=\"1\" class=\"dataframe\">\n",
       "  <thead>\n",
       "    <tr style=\"text-align: right;\">\n",
       "      <th></th>\n",
       "      <th>kst_bisher</th>\n",
       "      <th>kst_neu</th>\n",
       "      <th>abk</th>\n",
       "      <th>kst_bezeichnung</th>\n",
       "      <th>id</th>\n",
       "      <th>nr</th>\n",
       "    </tr>\n",
       "  </thead>\n",
       "  <tbody>\n",
       "    <tr>\n",
       "      <th>1</th>\n",
       "      <td>11</td>\n",
       "      <td>1100</td>\n",
       "      <td>None</td>\n",
       "      <td>Stadtparlament und parlamentarische Kommissionen</td>\n",
       "      <td>337ac5335af5c15cc0b2b32a078dd66b0a992052</td>\n",
       "      <td>3</td>\n",
       "    </tr>\n",
       "    <tr>\n",
       "      <th>2</th>\n",
       "      <td>12</td>\n",
       "      <td>1200</td>\n",
       "      <td>None</td>\n",
       "      <td>Stadtrat</td>\n",
       "      <td>e6ab826cacfdae8944f6f75f7652d127488b49e2</td>\n",
       "      <td>6</td>\n",
       "    </tr>\n",
       "    <tr>\n",
       "      <th>3</th>\n",
       "      <td>15</td>\n",
       "      <td>1500</td>\n",
       "      <td>None</td>\n",
       "      <td>Ombudsstelle</td>\n",
       "      <td>e30e49a0c4dea4bd005a3a1ae7617a80f726c1c1</td>\n",
       "      <td>9</td>\n",
       "    </tr>\n",
       "    <tr>\n",
       "      <th>4</th>\n",
       "      <td>19</td>\n",
       "      <td>190</td>\n",
       "      <td>KOM</td>\n",
       "      <td>Kommunikation</td>\n",
       "      <td>29a496727a625b8082f192147ba9dc52054fbb7d</td>\n",
       "      <td>28</td>\n",
       "    </tr>\n",
       "    <tr>\n",
       "      <th>5</th>\n",
       "      <td>22</td>\n",
       "      <td>220</td>\n",
       "      <td>BD</td>\n",
       "      <td>Bevölkerungsdienste</td>\n",
       "      <td>87e3605b21874cbd7660c2216560e88b4c9e643b</td>\n",
       "      <td>53</td>\n",
       "    </tr>\n",
       "  </tbody>\n",
       "</table>\n",
       "</div>"
      ],
      "text/plain": [
       "  kst_bisher kst_neu   abk                                   kst_bezeichnung  \\\n",
       "1         11    1100  None  Stadtparlament und parlamentarische Kommissionen   \n",
       "2         12    1200  None                                          Stadtrat   \n",
       "3         15    1500  None                                      Ombudsstelle   \n",
       "4         19     190   KOM                                     Kommunikation   \n",
       "5         22     220    BD                               Bevölkerungsdienste   \n",
       "\n",
       "                                         id  nr  \n",
       "1  337ac5335af5c15cc0b2b32a078dd66b0a992052   3  \n",
       "2  e6ab826cacfdae8944f6f75f7652d127488b49e2   6  \n",
       "3  e30e49a0c4dea4bd005a3a1ae7617a80f726c1c1   9  \n",
       "4  29a496727a625b8082f192147ba9dc52054fbb7d  28  \n",
       "5  87e3605b21874cbd7660c2216560e88b4c9e643b  53  "
      ]
     },
     "execution_count": 77,
     "metadata": {},
     "output_type": "execute_result"
    }
   ],
   "source": [
    "# Filter rows where both 'kst_bisher' and 'kst_neu' have non-null values\n",
    "surviving_kst = df.dropna(subset=['kst_bisher', 'kst_neu'])\n",
    "surviving_kst.head()\n"
   ]
  },
  {
   "cell_type": "markdown",
   "metadata": {},
   "source": [
    "Check how many cost accounts were eliminated with HRM1 -> HRM2"
   ]
  },
  {
   "cell_type": "code",
   "execution_count": 60,
   "metadata": {},
   "outputs": [
    {
     "data": {
      "text/html": [
       "<div>\n",
       "<style scoped>\n",
       "    .dataframe tbody tr th:only-of-type {\n",
       "        vertical-align: middle;\n",
       "    }\n",
       "\n",
       "    .dataframe tbody tr th {\n",
       "        vertical-align: top;\n",
       "    }\n",
       "\n",
       "    .dataframe thead th {\n",
       "        text-align: right;\n",
       "    }\n",
       "</style>\n",
       "<table border=\"1\" class=\"dataframe\">\n",
       "  <thead>\n",
       "    <tr style=\"text-align: right;\">\n",
       "      <th></th>\n",
       "      <th>kst_bisher</th>\n",
       "      <th>kst_neu</th>\n",
       "      <th>abk</th>\n",
       "      <th>kst_bezeichnung</th>\n",
       "      <th>id</th>\n",
       "      <th>nr</th>\n",
       "    </tr>\n",
       "  </thead>\n",
       "  <tbody>\n",
       "    <tr>\n",
       "      <th>0</th>\n",
       "      <td>1</td>\n",
       "      <td>None</td>\n",
       "      <td>BB</td>\n",
       "      <td>Bürgerschaft und Behörden</td>\n",
       "      <td>3a73602e24f4e9f6bc49d5a7732de09c9be6dba8</td>\n",
       "      <td>1</td>\n",
       "    </tr>\n",
       "    <tr>\n",
       "      <th>16</th>\n",
       "      <td>3</td>\n",
       "      <td>None</td>\n",
       "      <td>DBF</td>\n",
       "      <td>Direktion Bildung und Freizeit</td>\n",
       "      <td>9453ad13b35b76428dd0ed9260116f50bcaff08b</td>\n",
       "      <td>177</td>\n",
       "    </tr>\n",
       "    <tr>\n",
       "      <th>94</th>\n",
       "      <td>6</td>\n",
       "      <td>None</td>\n",
       "      <td>DPB</td>\n",
       "      <td>Direktion Planung und Bau</td>\n",
       "      <td>9ecbcfed2370bb263ee669a66416ebc1d1088976</td>\n",
       "      <td>658</td>\n",
       "    </tr>\n",
       "  </tbody>\n",
       "</table>\n",
       "</div>"
      ],
      "text/plain": [
       "   kst_bisher kst_neu  abk                 kst_bezeichnung  \\\n",
       "0           1    None   BB       Bürgerschaft und Behörden   \n",
       "16          3    None  DBF  Direktion Bildung und Freizeit   \n",
       "94          6    None  DPB       Direktion Planung und Bau   \n",
       "\n",
       "                                          id   nr  \n",
       "0   3a73602e24f4e9f6bc49d5a7732de09c9be6dba8    1  \n",
       "16  9453ad13b35b76428dd0ed9260116f50bcaff08b  177  \n",
       "94  9ecbcfed2370bb263ee669a66416ebc1d1088976  658  "
      ]
     },
     "execution_count": 60,
     "metadata": {},
     "output_type": "execute_result"
    }
   ],
   "source": [
    "# Keep only rows where 'kst_bisher' or 'kst_neu' are NaN\n",
    "eliminated_kst = df[df['kst_bisher'].notna() & df['kst_neu'].isna()]\n",
    "eliminated_kst"
   ]
  },
  {
   "cell_type": "markdown",
   "metadata": {},
   "source": [
    "Check how many cost accounts were created with HRM1 -> HRM2"
   ]
  },
  {
   "cell_type": "code",
   "execution_count": 64,
   "metadata": {},
   "outputs": [
    {
     "data": {
      "text/html": [
       "<div>\n",
       "<style scoped>\n",
       "    .dataframe tbody tr th:only-of-type {\n",
       "        vertical-align: middle;\n",
       "    }\n",
       "\n",
       "    .dataframe tbody tr th {\n",
       "        vertical-align: top;\n",
       "    }\n",
       "\n",
       "    .dataframe thead th {\n",
       "        text-align: right;\n",
       "    }\n",
       "</style>\n",
       "<table border=\"1\" class=\"dataframe\">\n",
       "  <thead>\n",
       "    <tr style=\"text-align: right;\">\n",
       "      <th></th>\n",
       "      <th>kst_bisher</th>\n",
       "      <th>kst_neu</th>\n",
       "      <th>abk</th>\n",
       "      <th>kst_bezeichnung</th>\n",
       "      <th>id</th>\n",
       "      <th>nr</th>\n",
       "    </tr>\n",
       "  </thead>\n",
       "  <tbody>\n",
       "    <tr>\n",
       "      <th>9</th>\n",
       "      <td>None</td>\n",
       "      <td>2600</td>\n",
       "      <td>None</td>\n",
       "      <td>Verwaltung der Dienststelle</td>\n",
       "      <td>8957b1de330bdee03b25f70d8e786d566420cfbd</td>\n",
       "      <td>124</td>\n",
       "    </tr>\n",
       "    <tr>\n",
       "      <th>30</th>\n",
       "      <td>None</td>\n",
       "      <td>6304</td>\n",
       "      <td>None</td>\n",
       "      <td>Öffentliche Anlagen</td>\n",
       "      <td>e785d4474799c809b253a127c95ab1a6e9cc7aef</td>\n",
       "      <td>1007</td>\n",
       "    </tr>\n",
       "    <tr>\n",
       "      <th>31</th>\n",
       "      <td>None</td>\n",
       "      <td>6305</td>\n",
       "      <td>None</td>\n",
       "      <td>Friedhöfe</td>\n",
       "      <td>ad668b86efbc0206043cc4d4f71494721ae291bf</td>\n",
       "      <td>1013</td>\n",
       "    </tr>\n",
       "    <tr>\n",
       "      <th>33</th>\n",
       "      <td>None</td>\n",
       "      <td>6500</td>\n",
       "      <td>None</td>\n",
       "      <td>Amt für Baubewilligungen</td>\n",
       "      <td>58503c10b106112940060055fcd432b69995c44f</td>\n",
       "      <td>1357</td>\n",
       "    </tr>\n",
       "    <tr>\n",
       "      <th>35</th>\n",
       "      <td>None</td>\n",
       "      <td>670</td>\n",
       "      <td>GBA</td>\n",
       "      <td>Grundbuchamt</td>\n",
       "      <td>a893f83f32883a163b144b2e7b20ada7ea6afe29</td>\n",
       "      <td>1372</td>\n",
       "    </tr>\n",
       "  </tbody>\n",
       "</table>\n",
       "</div>"
      ],
      "text/plain": [
       "   kst_bisher kst_neu   abk              kst_bezeichnung  \\\n",
       "9        None    2600  None  Verwaltung der Dienststelle   \n",
       "30       None    6304  None          Öffentliche Anlagen   \n",
       "31       None    6305  None                    Friedhöfe   \n",
       "33       None    6500  None     Amt für Baubewilligungen   \n",
       "35       None     670   GBA                 Grundbuchamt   \n",
       "\n",
       "                                          id    nr  \n",
       "9   8957b1de330bdee03b25f70d8e786d566420cfbd   124  \n",
       "30  e785d4474799c809b253a127c95ab1a6e9cc7aef  1007  \n",
       "31  ad668b86efbc0206043cc4d4f71494721ae291bf  1013  \n",
       "33  58503c10b106112940060055fcd432b69995c44f  1357  \n",
       "35  a893f83f32883a163b144b2e7b20ada7ea6afe29  1372  "
      ]
     },
     "execution_count": 64,
     "metadata": {},
     "output_type": "execute_result"
    }
   ],
   "source": [
    "added_kst = df[df['kst_neu'].notna() & df['kst_bisher'].isna()]\n",
    "added_kst.head()"
   ]
  },
  {
   "cell_type": "markdown",
   "metadata": {},
   "source": [
    "Check how many cost accounts there were with HRM1"
   ]
  },
  {
   "cell_type": "code",
   "execution_count": 65,
   "metadata": {},
   "outputs": [
    {
     "data": {
      "text/html": [
       "<div>\n",
       "<style scoped>\n",
       "    .dataframe tbody tr th:only-of-type {\n",
       "        vertical-align: middle;\n",
       "    }\n",
       "\n",
       "    .dataframe tbody tr th {\n",
       "        vertical-align: top;\n",
       "    }\n",
       "\n",
       "    .dataframe thead th {\n",
       "        text-align: right;\n",
       "    }\n",
       "</style>\n",
       "<table border=\"1\" class=\"dataframe\">\n",
       "  <thead>\n",
       "    <tr style=\"text-align: right;\">\n",
       "      <th></th>\n",
       "      <th>kst_bisher</th>\n",
       "      <th>kst_neu</th>\n",
       "      <th>abk</th>\n",
       "      <th>kst_bezeichnung</th>\n",
       "      <th>id</th>\n",
       "      <th>nr</th>\n",
       "    </tr>\n",
       "  </thead>\n",
       "  <tbody>\n",
       "    <tr>\n",
       "      <th>0</th>\n",
       "      <td>1</td>\n",
       "      <td>None</td>\n",
       "      <td>BB</td>\n",
       "      <td>Bürgerschaft und Behörden</td>\n",
       "      <td>3a73602e24f4e9f6bc49d5a7732de09c9be6dba8</td>\n",
       "      <td>1</td>\n",
       "    </tr>\n",
       "    <tr>\n",
       "      <th>1</th>\n",
       "      <td>11</td>\n",
       "      <td>1100</td>\n",
       "      <td>None</td>\n",
       "      <td>Stadtparlament und parlamentarische Kommissionen</td>\n",
       "      <td>337ac5335af5c15cc0b2b32a078dd66b0a992052</td>\n",
       "      <td>3</td>\n",
       "    </tr>\n",
       "    <tr>\n",
       "      <th>2</th>\n",
       "      <td>12</td>\n",
       "      <td>1200</td>\n",
       "      <td>None</td>\n",
       "      <td>Stadtrat</td>\n",
       "      <td>e6ab826cacfdae8944f6f75f7652d127488b49e2</td>\n",
       "      <td>6</td>\n",
       "    </tr>\n",
       "    <tr>\n",
       "      <th>3</th>\n",
       "      <td>15</td>\n",
       "      <td>1500</td>\n",
       "      <td>None</td>\n",
       "      <td>Ombudsstelle</td>\n",
       "      <td>e30e49a0c4dea4bd005a3a1ae7617a80f726c1c1</td>\n",
       "      <td>9</td>\n",
       "    </tr>\n",
       "    <tr>\n",
       "      <th>4</th>\n",
       "      <td>19</td>\n",
       "      <td>190</td>\n",
       "      <td>KOM</td>\n",
       "      <td>Kommunikation</td>\n",
       "      <td>29a496727a625b8082f192147ba9dc52054fbb7d</td>\n",
       "      <td>28</td>\n",
       "    </tr>\n",
       "  </tbody>\n",
       "</table>\n",
       "</div>"
      ],
      "text/plain": [
       "  kst_bisher kst_neu   abk                                   kst_bezeichnung  \\\n",
       "0          1    None    BB                         Bürgerschaft und Behörden   \n",
       "1         11    1100  None  Stadtparlament und parlamentarische Kommissionen   \n",
       "2         12    1200  None                                          Stadtrat   \n",
       "3         15    1500  None                                      Ombudsstelle   \n",
       "4         19     190   KOM                                     Kommunikation   \n",
       "\n",
       "                                         id  nr  \n",
       "0  3a73602e24f4e9f6bc49d5a7732de09c9be6dba8   1  \n",
       "1  337ac5335af5c15cc0b2b32a078dd66b0a992052   3  \n",
       "2  e6ab826cacfdae8944f6f75f7652d127488b49e2   6  \n",
       "3  e30e49a0c4dea4bd005a3a1ae7617a80f726c1c1   9  \n",
       "4  29a496727a625b8082f192147ba9dc52054fbb7d  28  "
      ]
     },
     "execution_count": 65,
     "metadata": {},
     "output_type": "execute_result"
    }
   ],
   "source": [
    "# Drop rows where 'kst_bisher' is None\n",
    "old_kst = df.dropna(subset=['kst_bisher'])\n",
    "old_kst.head()"
   ]
  },
  {
   "cell_type": "code",
   "execution_count": 80,
   "metadata": {},
   "outputs": [
    {
     "data": {
      "text/plain": [
       "78"
      ]
     },
     "execution_count": 80,
     "metadata": {},
     "output_type": "execute_result"
    }
   ],
   "source": [
    "len(old_kst)"
   ]
  },
  {
   "cell_type": "markdown",
   "metadata": {},
   "source": [
    "Check how many cost accounts there are with HRM2"
   ]
  },
  {
   "cell_type": "code",
   "execution_count": 66,
   "metadata": {},
   "outputs": [
    {
     "data": {
      "text/html": [
       "<div>\n",
       "<style scoped>\n",
       "    .dataframe tbody tr th:only-of-type {\n",
       "        vertical-align: middle;\n",
       "    }\n",
       "\n",
       "    .dataframe tbody tr th {\n",
       "        vertical-align: top;\n",
       "    }\n",
       "\n",
       "    .dataframe thead th {\n",
       "        text-align: right;\n",
       "    }\n",
       "</style>\n",
       "<table border=\"1\" class=\"dataframe\">\n",
       "  <thead>\n",
       "    <tr style=\"text-align: right;\">\n",
       "      <th></th>\n",
       "      <th>kst_bisher</th>\n",
       "      <th>kst_neu</th>\n",
       "      <th>abk</th>\n",
       "      <th>kst_bezeichnung</th>\n",
       "      <th>id</th>\n",
       "      <th>nr</th>\n",
       "    </tr>\n",
       "  </thead>\n",
       "  <tbody>\n",
       "    <tr>\n",
       "      <th>1</th>\n",
       "      <td>11</td>\n",
       "      <td>1100</td>\n",
       "      <td>None</td>\n",
       "      <td>Stadtparlament und parlamentarische Kommissionen</td>\n",
       "      <td>337ac5335af5c15cc0b2b32a078dd66b0a992052</td>\n",
       "      <td>3</td>\n",
       "    </tr>\n",
       "    <tr>\n",
       "      <th>2</th>\n",
       "      <td>12</td>\n",
       "      <td>1200</td>\n",
       "      <td>None</td>\n",
       "      <td>Stadtrat</td>\n",
       "      <td>e6ab826cacfdae8944f6f75f7652d127488b49e2</td>\n",
       "      <td>6</td>\n",
       "    </tr>\n",
       "    <tr>\n",
       "      <th>3</th>\n",
       "      <td>15</td>\n",
       "      <td>1500</td>\n",
       "      <td>None</td>\n",
       "      <td>Ombudsstelle</td>\n",
       "      <td>e30e49a0c4dea4bd005a3a1ae7617a80f726c1c1</td>\n",
       "      <td>9</td>\n",
       "    </tr>\n",
       "    <tr>\n",
       "      <th>4</th>\n",
       "      <td>19</td>\n",
       "      <td>190</td>\n",
       "      <td>KOM</td>\n",
       "      <td>Kommunikation</td>\n",
       "      <td>29a496727a625b8082f192147ba9dc52054fbb7d</td>\n",
       "      <td>28</td>\n",
       "    </tr>\n",
       "    <tr>\n",
       "      <th>5</th>\n",
       "      <td>22</td>\n",
       "      <td>220</td>\n",
       "      <td>BD</td>\n",
       "      <td>Bevölkerungsdienste</td>\n",
       "      <td>87e3605b21874cbd7660c2216560e88b4c9e643b</td>\n",
       "      <td>53</td>\n",
       "    </tr>\n",
       "  </tbody>\n",
       "</table>\n",
       "</div>"
      ],
      "text/plain": [
       "  kst_bisher kst_neu   abk                                   kst_bezeichnung  \\\n",
       "1         11    1100  None  Stadtparlament und parlamentarische Kommissionen   \n",
       "2         12    1200  None                                          Stadtrat   \n",
       "3         15    1500  None                                      Ombudsstelle   \n",
       "4         19     190   KOM                                     Kommunikation   \n",
       "5         22     220    BD                               Bevölkerungsdienste   \n",
       "\n",
       "                                         id  nr  \n",
       "1  337ac5335af5c15cc0b2b32a078dd66b0a992052   3  \n",
       "2  e6ab826cacfdae8944f6f75f7652d127488b49e2   6  \n",
       "3  e30e49a0c4dea4bd005a3a1ae7617a80f726c1c1   9  \n",
       "4  29a496727a625b8082f192147ba9dc52054fbb7d  28  \n",
       "5  87e3605b21874cbd7660c2216560e88b4c9e643b  53  "
      ]
     },
     "execution_count": 66,
     "metadata": {},
     "output_type": "execute_result"
    }
   ],
   "source": [
    "# Drop rows where 'kst_neu' is None\n",
    "new_kst = df.dropna(subset=['kst_neu'])\n",
    "new_kst.head()"
   ]
  },
  {
   "cell_type": "code",
   "execution_count": 81,
   "metadata": {},
   "outputs": [
    {
     "data": {
      "text/plain": [
       "97"
      ]
     },
     "execution_count": 81,
     "metadata": {},
     "output_type": "execute_result"
    }
   ],
   "source": [
    "len(new_kst)"
   ]
  },
  {
   "cell_type": "markdown",
   "metadata": {},
   "source": [
    "The following chart summarizes the HRM1 -> HRM2 cost account transition"
   ]
  },
  {
   "cell_type": "code",
   "execution_count": 90,
   "metadata": {},
   "outputs": [
    {
     "data": {
      "image/png": "[encoded data removed]",
      "text/plain": [
       "<Figure size 640x480 with 1 Axes>"
      ]
     },
     "metadata": {},
     "output_type": "display_data"
    }
   ],
   "source": [
    "# Sample DataFrame sizes\n",
    "num_surviving_kst = len(surviving_kst) \n",
    "num_eliminated_kst = len(eliminated_kst) \n",
    "num_old_kst = len(old_kst) - len(eliminated_kst)\n",
    "num_added_kst = len(added_kst)\n",
    "\n",
    "# Calculating HRM1 and HRM2 values\n",
    "HRM1_values = [num_surviving_kst, num_eliminated_kst]\n",
    "HRM2_values = [num_old_kst, num_added_kst]\n",
    "\n",
    "# Labels for the groups\n",
    "group_labels = ['HRM1', 'HRM2']\n",
    "\n",
    "# Creating the stacked bar chart\n",
    "fig, ax = plt.subplots()\n",
    "bar1 = ax.bar(group_labels[0], HRM1_values[0], label='Surviving KST', color='blue')\n",
    "bar2 = ax.bar(group_labels[0], HRM1_values[1], bottom=HRM1_values[0], label='Eliminated KST', color='lightblue')\n",
    "bar3 = ax.bar(group_labels[1], HRM2_values[0], label='Old KST', color='green')\n",
    "bar4 = ax.bar(group_labels[1], HRM2_values[1], bottom=HRM2_values[0], label='Added KST', color='lightgreen')\n",
    "\n",
    "# Adding data labels\n",
    "def add_labels(bars):\n",
    "    for bar in bars:\n",
    "        height = bar.get_height()\n",
    "        ax.annotate('{}'.format(height),\n",
    "                    xy=(bar.get_x() + bar.get_width() / 2, bar.get_y() + height / 2),\n",
    "                    xytext=(0, 3),  # 3 points vertical offset\n",
    "                    textcoords=\"offset points\",\n",
    "                    ha='center', va='bottom')\n",
    "\n",
    "add_labels(bar1)\n",
    "add_labels(bar2)\n",
    "add_labels(bar3)\n",
    "add_labels(bar4)\n",
    "\n",
    "# Adding title and labels\n",
    "plt.title('HRM1 vs. HRM2 (i.e., RMSG) in St.Gallen')\n",
    "plt.xlabel('HRM Type')\n",
    "plt.ylabel('Total cost accounts')\n",
    "\n",
    "# Adding a legend to the right of the chart\n",
    "plt.legend(loc='center left', bbox_to_anchor=(1, 0.5))\n",
    "\n",
    "# Adjust layout to make room for the legend\n",
    "plt.tight_layout()\n",
    "\n",
    "# Show the plot\n",
    "plt.show()\n"
   ]
  }
 ],
 "metadata": {
  "kernelspec": {
   "display_name": "Python 3",
   "language": "python",
   "name": "python3"
  },
  "language_info": {
   "codemirror_mode": {
    "name": "ipython",
    "version": 3
   },
   "file_extension": ".py",
   "mimetype": "text/x-python",
   "name": "python",
   "nbconvert_exporter": "python",
   "pygments_lexer": "ipython3",
   "version": "3.11.6"
  }
 },
 "nbformat": 4,
 "nbformat_minor": 2
}
